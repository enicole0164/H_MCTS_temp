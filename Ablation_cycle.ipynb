{
 "cells": [
  {
   "cell_type": "code",
   "execution_count": 4,
   "id": "87f48416-f947-4a34-9594-1cf0ddbfd2cd",
   "metadata": {},
   "outputs": [],
   "source": [
    "from src.Planners.H_MCTS_HW import H_MCTS_HW\n",
    "from src.Planners.H_MCTS_wo_cycle.H_MCTS import H_MCTS_woCycle\n",
    "\n",
    "import math\n",
    "import pandas as pd\n",
    "import numpy as np\n",
    "import matplotlib.pyplot as plt"
   ]
  },
  {
   "cell_type": "code",
   "execution_count": 5,
   "id": "d8d88f21-2981-4467-8e9d-debd0f6f19bb",
   "metadata": {},
   "outputs": [],
   "source": [
    "l1_rows = 8\n",
    "l1_cols = 8\n",
    "l1_width = 2\n",
    "l1_height = 2\n",
    "# H_level = 2\n",
    "num_barrier = 15\n",
    "random_seed= 25\n",
    "\n",
    "explorationConstant = 1 / math.sqrt(2)\n",
    "grid_setting = (l1_rows, l1_cols, l1_width, l1_height)\n",
    "\n",
    "iter_Limit = 10000\n",
    "H_level = 2"
   ]
  },
  {
   "cell_type": "code",
   "execution_count": 7,
   "id": "48db96ce-2737-4f9e-8f41-31334c5144fc",
   "metadata": {
    "tags": []
   },
   "outputs": [
    {
     "name": "stdout",
     "output_type": "stream",
     "text": [
      "random seed is 0\n",
      "random seed is 1\n",
      "random seed is 2\n",
      "random seed is 4\n",
      "random seed is 5\n",
      "random seed is 6\n",
      "random seed is 7\n",
      "random seed is 8\n",
      "random seed is 9\n",
      "random seed is 10\n",
      "random seed is 11\n",
      "random seed is 12\n",
      "random seed is 13\n",
      "random seed is 14\n",
      "random seed is 15\n",
      "random seed is 16\n",
      "random seed is 17\n",
      "random seed is 18\n"
     ]
    }
   ],
   "source": [
    "r = 0\n",
    "dead_list = [3, 19, 22, 29, 37, 43, 50, 54, 59, 62, 79, 110]  # unfeasible set\n",
    "\n",
    "num_set = 5\n",
    "\n",
    "success_data = dict()\n",
    "iteration_data = dict()\n",
    "\n",
    "modules = ['H_woC', 'Plain_woC', 'H', 'Plain']\n",
    "\n",
    "for module in modules:\n",
    "    success_data[module] = []\n",
    "    iteration_data[module] = []\n",
    "\n",
    "Success_H = 0\n",
    "Success_Plain = 0\n",
    "\n",
    "H_level = 2\n",
    "Plain_level = 1\n",
    "for i in range(1):\n",
    "    for random_seed in range(0, 20):\n",
    "        if random_seed in dead_list:\n",
    "            continue\n",
    "        else:\n",
    "            print(f'random seed is {random_seed}')\n",
    "            H_mcts_woCycle = H_MCTS_woCycle(grid_setting, iter_Limit=iter_Limit, H_level=H_level, explorationConstant=explorationConstant, num_barrier=num_barrier, random_seed=random_seed)\n",
    "            Plain_mcts_woCycle = H_MCTS_woCycle(grid_setting, iter_Limit=iter_Limit, H_level=Plain_level, explorationConstant=explorationConstant, num_barrier=num_barrier, random_seed=random_seed)\n",
    "            H_woC_traj, H_woC_success, H_woC_iter = H_mcts_woCycle.search()\n",
    "            Plain_woC_traj, Plain_woC_success, Plain_woC_iter = Plain_mcts_woCycle.search()\n",
    "            \n",
    "            H_mcts = H_MCTS_HW(grid_setting, iter_Limit=iter_Limit, H_level=H_level, explorationConstant=explorationConstant, num_barrier=num_barrier, random_seed=random_seed)\n",
    "            Plain_mcts =  H_MCTS_HW(grid_setting, iter_Limit=iter_Limit, H_level=Plain_level, explorationConstant=explorationConstant, num_barrier=num_barrier, random_seed=random_seed)\n",
    "            H_traj, H_success, H_iter = H_mcts.search()\n",
    "            Plain_traj, Plain_success, Plain_iter = Plain_mcts.search()\n",
    "            \n",
    "            success_data['H_woC'].append(H_woC_success)\n",
    "            success_data['Plain_woC'].append(Plain_woC_success)\n",
    "            success_data['H'].append(H_success)\n",
    "            success_data['Plain'].append(Plain_success)\n",
    "\n",
    "            iteration_data['H_woC'].append(H_woC_iter)\n",
    "            iteration_data['Plain_woC'].append(Plain_woC_iter)\n",
    "            iteration_data['H'].append(H_iter)\n",
    "            iteration_data['Plain'].append(Plain_iter)"
   ]
  },
  {
   "cell_type": "code",
   "execution_count": 4,
   "id": "0ca334fe-7235-4ed0-816f-5bdc5c92e7f6",
   "metadata": {},
   "outputs": [
    {
     "name": "stdout",
     "output_type": "stream",
     "text": [
      "        without Cycle  with Cycle\n",
      "Plain            0.76       0.990\n",
      "H-MCTS           0.95       0.996\n"
     ]
    }
   ],
   "source": [
    "df_success = pd.DataFrame(success_data)\n",
    "\n",
    "df_success_rate = pd.DataFrame({\n",
    "    'without Cycle': [df_success['Plain_woC'].mean(), df_success['H_woC'].mean()],\n",
    "    'with Cycle': [df_success['Plain'].mean(), df_success['H'].mean()]\n",
    "}, index=['Plain', 'H-MCTS'])\n",
    "\n",
    "print(df_success_rate)"
   ]
  },
  {
   "cell_type": "code",
   "execution_count": 5,
   "id": "66c17dbd-24c2-4a7b-aab3-839fd9e75de6",
   "metadata": {},
   "outputs": [
    {
     "data": {
      "image/png": "[encoded data removed]",
      "text/plain": [
       "<Figure size 640x480 with 1 Axes>"
      ]
     },
     "metadata": {},
     "output_type": "display_data"
    }
   ],
   "source": [
    "import numpy as np\n",
    "import matplotlib.pyplot as plt\n",
    "\n",
    "# Filter the iteration_data based on success\n",
    "filtered_iteration_data = {module: [] for module in modules}\n",
    "\n",
    "for i in range(len(success_data['H_woC'])):\n",
    "    if all([success_data[module][i] for module in modules]):\n",
    "        for module in modules:\n",
    "            filtered_iteration_data[module].append(iteration_data[module][i])\n",
    "\n",
    "# Calculate mean and standard deviation\n",
    "mean_data = {module: np.mean(filtered_iteration_data[module]) for module in modules}\n",
    "std_data = {module: np.std(filtered_iteration_data[module]) for module in modules}\n",
    "\n",
    "# Plotting the mean and standard deviation\n",
    "labels = list(mean_data.keys())\n",
    "mean_vals = list(mean_data.values())\n",
    "std_vals = list(std_data.values())\n",
    "\n",
    "x = np.arange(len(labels))  # the label locations\n",
    "\n",
    "colors = ['blue', 'green', 'red', 'purple']  # Define colors for each module\n",
    "\n",
    "fig, ax = plt.subplots()\n",
    "for i in range(len(labels)):\n",
    "    # Only positive error bars\n",
    "    ax.bar(x[i], mean_vals[i], yerr=[[0], [std_vals[i]]], color=colors[i], capsize=10)\n",
    "\n",
    "ax.set_yscale('log') # Change y-axis to log scale\n",
    "\n",
    "# Remaining part of the code\n",
    "ax.set_ylabel('Iterations until find the path')\n",
    "ax.set_title('Cycle ablation')\n",
    "ax.set_xticks(x)\n",
    "ax.set_xticklabels(labels)\n",
    "\n",
    "fig.tight_layout()\n",
    "\n",
    "plt.show()\n",
    "\n"
   ]
  },
  {
   "cell_type": "code",
   "execution_count": null,
   "id": "86045f30-0df5-48ab-b398-a78d0ba1a33f",
   "metadata": {},
   "outputs": [],
   "source": []
  }
 ],
 "metadata": {
  "kernelspec": {
   "display_name": "Python 3 (ipykernel)",
   "language": "python",
   "name": "python3"
  },
  "language_info": {
   "codemirror_mode": {
    "name": "ipython",
    "version": 3
   },
   "file_extension": ".py",
   "mimetype": "text/x-python",
   "name": "python",
   "nbconvert_exporter": "python",
   "pygments_lexer": "ipython3",
   "version": "3.9.13"
  }
 },
 "nbformat": 4,
 "nbformat_minor": 5
}
