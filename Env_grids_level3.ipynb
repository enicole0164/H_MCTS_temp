{
 "cells": [
  {
   "cell_type": "code",
   "execution_count": 1,
   "id": "e5036699-16f0-471a-a181-6be038e263a6",
   "metadata": {},
   "outputs": [],
   "source": [
    "import numpy as np\n",
    "import math\n",
    "import random\n",
    "\n",
    "from src.Env.Grid.Higher_Grids_HW3 import HighLevelGrids3"
   ]
  },
  {
   "cell_type": "code",
   "execution_count": 2,
   "id": "5f33c610-a087-4f3d-9ea5-48444afb419e",
   "metadata": {},
   "outputs": [],
   "source": [
    "l1_rows_4 = 4\n",
    "l1_cols_4 = 4\n",
    "\n",
    "l1_rows = 8\n",
    "l1_cols = 8\n",
    "\n",
    "l1_rows_12 = 12\n",
    "l1_cols_12 = 12\n",
    "\n",
    "l1_width = 2\n",
    "l1_height = 2\n",
    "\n",
    "grid_setting1 = (l1_rows_4, l1_cols_4, l1_width, l1_height)\n",
    "grid_setting2 = (l1_rows, l1_cols, l1_width, l1_height)\n",
    "grid_setting3 = (l1_rows_12, l1_cols_12, l1_width, l1_height)"
   ]
  },
  {
   "cell_type": "code",
   "execution_count": 3,
   "id": "33fa338a-e110-4b08-887b-d4e56e0e7d92",
   "metadata": {
    "tags": []
   },
   "outputs": [],
   "source": [
    "# All_Grid = All_level_Grids_w_agent(l1_rows, l1_cols, l1_width, l1_height)\n",
    "\n",
    "# for idx, grid in enumerate(All_Grid.Grid_list):\n",
    "#     grid.plot_grid()\n",
    "#     print(grid)\n",
    "#     while not grid.agent.is_Arrived:\n",
    "#         if grid.level == 0:\n",
    "#             dx, dy = grid.agent.random_action()\n",
    "#         else:\n",
    "#             possible_actions = grid.get_possible_A(grid.agent.x, grid.agent.y)\n",
    "#             dx, dy = grid.agent.random_action(possible_actions)\n",
    "        \n",
    "#         dx, dy = grid.agent.move_plan(dx, dy)\n",
    "#         grid.move_agent(dx, dy)\n",
    "#     grid.plot_grid()\n",
    "    \n",
    "# high_level_Grids = high_level_Grids_w_agent(l1_rows, l1_cols, l1_width, l1_height)\n",
    "\n",
    "# for idx, grid in enumerate(high_level_Grids.Grid_list):\n",
    "#     grid.plot_grid()\n",
    "#     print(grid)\n",
    "#     while not grid.agent.is_Arrived:\n",
    "#         if grid.level == 0:\n",
    "#             dx, dy = grid.agent.random_action()\n",
    "#         else:\n",
    "#             possible_actions = grid.get_possible_A(grid.agent.x, grid.agent.y)\n",
    "#             dx, dy = grid.agent.random_action(possible_actions)\n",
    "        \n",
    "#         dx, dy = grid.agent.move_plan(dx, dy)\n",
    "#         grid.move_agent(dx, dy)\n",
    "#     grid.plot_grid()"
   ]
  },
  {
   "cell_type": "code",
   "execution_count": 11,
   "id": "9ca69bb3-83d0-4680-9dea-6c8a22c8930e",
   "metadata": {},
   "outputs": [],
   "source": [
    "Env_4_4 = HighLevelGrids3(grid_setting1)\n",
    "Env_8_8 = HighLevelGrids3(grid_setting2)\n",
    "Env_12_12 = HighLevelGrids3(grid_setting3, random_seed=40, H_level=3)"
   ]
  },
  {
   "cell_type": "code",
   "execution_count": 17,
   "id": "6de05455-9758-4d59-98fd-de6da3ae34f0",
   "metadata": {},
   "outputs": [
    {
     "data": {
      "text/plain": [
       "{1: 12, 2: 6, 3: 3}"
      ]
     },
     "execution_count": 17,
     "metadata": {},
     "output_type": "execute_result"
    }
   ],
   "source": [
    "Env_12_12.rows"
   ]
  },
  {
   "cell_type": "code",
   "execution_count": 5,
   "id": "a6a36242-658e-4108-b90d-1b1ca81cb47c",
   "metadata": {},
   "outputs": [],
   "source": [
    "Env_8_8 = HighLevelGrids3(grid_setting2)"
   ]
  },
  {
   "cell_type": "code",
   "execution_count": 7,
   "id": "19d646af-ecdb-432c-9330-2513ea210628",
   "metadata": {},
   "outputs": [
    {
     "data": {
      "image/png": "[encoded data removed]",
      "text/plain": [
       "<Figure size 300x300 with 1 Axes>"
      ]
     },
     "metadata": {},
     "output_type": "display_data"
    }
   ],
   "source": [
    "Env_4_4.plot_grid(2)"
   ]
  },
  {
   "cell_type": "code",
   "execution_count": 9,
   "id": "f4736727-14df-4d7d-98d1-9b270dc76ef1",
   "metadata": {},
   "outputs": [
    {
     "data": {
      "image/png": "[encoded data removed]",
      "text/plain": [
       "<Figure size 300x300 with 1 Axes>"
      ]
     },
     "metadata": {},
     "output_type": "display_data"
    }
   ],
   "source": [
    "Env_8_8 = HighLevelGrids(grid_setting2)\n",
    "Env_8_8.plot_grid(i)"
   ]
  },
  {
   "cell_type": "code",
   "execution_count": 11,
   "id": "55b56a8c-8935-4d52-b288-8e483001ccf3",
   "metadata": {},
   "outputs": [
    {
     "data": {
      "text/plain": [
       "[(2, 1, 0), (2, -1, 0), (2, 0, -1), (2, 0, 1)]"
      ]
     },
     "execution_count": 11,
     "metadata": {},
     "output_type": "execute_result"
    }
   ],
   "source": [
    "Env_8_8.get_possible_Action((2, 1, 1))"
   ]
  },
  {
   "cell_type": "code",
   "execution_count": null,
   "id": "ba135482-468b-48a7-b7b1-8a4d1f64bc79",
   "metadata": {},
   "outputs": [],
   "source": []
  }
 ],
 "metadata": {
  "kernelspec": {
   "display_name": "Python 3 (ipykernel)",
   "language": "python",
   "name": "python3"
  },
  "language_info": {
   "codemirror_mode": {
    "name": "ipython",
    "version": 3
   },
   "file_extension": ".py",
   "mimetype": "text/x-python",
   "name": "python",
   "nbconvert_exporter": "python",
   "pygments_lexer": "ipython3",
   "version": "3.9.13"
  }
 },
 "nbformat": 4,
 "nbformat_minor": 5
}
