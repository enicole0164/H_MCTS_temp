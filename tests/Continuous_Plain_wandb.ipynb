{
 "cells": [
  {
   "cell_type": "markdown",
   "id": "46128d46",
   "metadata": {},
   "source": [
    "Continuous Plain MCTS (w/ wandb)\n",
    "================================"
   ]
  },
  {
   "cell_type": "markdown",
   "id": "165f9cde",
   "metadata": {},
   "source": [
    "### 1. Login to wandb"
   ]
  },
  {
   "cell_type": "code",
   "execution_count": null,
   "id": "fb403686",
   "metadata": {},
   "outputs": [],
   "source": [
    "import wandb\n",
    "wandb.login()"
   ]
  },
  {
   "cell_type": "markdown",
   "id": "f6019a0f",
   "metadata": {},
   "source": [
    "### 2. Import packages"
   ]
  },
  {
   "cell_type": "code",
   "execution_count": null,
   "id": "77e385e3-a7f7-4a3b-a396-a7ef221e84e2",
   "metadata": {},
   "outputs": [],
   "source": [
    "import math\n",
    "import json\n",
    "from itertools import product\n",
    "import os\n",
    "import sys\n"
   ]
  },
  {
   "cell_type": "markdown",
   "id": "6faf5270",
   "metadata": {},
   "source": [
    "#### - Import Plain_MCTS"
   ]
  },
  {
   "cell_type": "code",
   "execution_count": null,
   "id": "57dd8b01",
   "metadata": {},
   "outputs": [],
   "source": [
    "module_path = os.path.abspath(os.path.join('..'))\n",
    "if module_path not in sys.path:\n",
    "    sys.path.append(module_path)\n",
    "\n",
    "from src.Env.Grid.Cont_Grid import Continuous_Grid\n",
    "from src.Planners.H_MCTS_continuous.Plain_MCTS_cont import Plain_MCTS_Cont\n",
    "\n",
    "from utils import *"
   ]
  },
  {
   "cell_type": "code",
   "execution_count": null,
   "id": "dc742a9c",
   "metadata": {},
   "outputs": [],
   "source": [
    "# Basic Setup for environment\n",
    "l1_rows = 8\n",
    "l1_cols = 8\n",
    "l1_width = 2\n",
    "l1_height = 2\n",
    "goal_distance = 3\n",
    "grid_setting = (l1_rows, l1_cols, l1_width, l1_height, goal_distance)\n",
    "num_barrier = 15"
   ]
  },
  {
   "cell_type": "code",
   "execution_count": null,
   "id": "d482f02e",
   "metadata": {},
   "outputs": [],
   "source": [
    "# Test code\n",
    "# Input: \n",
    "#   param\n",
    "#       0. explorationConstant\n",
    "#       1. iter_Limit\n",
    "#       2. alpha (PW)\n",
    "#       3. constant_c (PW)\n",
    "#       4. gamma\n",
    "#   grid_setting\n",
    "#   folder_name: for local save\n",
    "\n",
    "\n",
    "def test_plain_mcts(param, grid_setting, folder_name):\n",
    "    mcts_result = {}\n",
    "    mcts_result[\"iter_cnt\"] = {}\n",
    "    mcts_success_rate = 0\n",
    "\n",
    "    explorationConstant = param[0]\n",
    "    iter_Limit = param[1]\n",
    "    alpha = param[2]\n",
    "    constant_c = param[3]\n",
    "    gamma = param[4]\n",
    "\n",
    "    for random_seed in range(100):\n",
    "        print(\"Random_seed\", random_seed)\n",
    "        MCTS = Plain_MCTS_Cont(grid_setting, random_seed=random_seed,\n",
    "                                num_barrier = num_barrier,\n",
    "                                explorationConstant=1 / math.sqrt(explorationConstant),\n",
    "                                alpha=alpha,\n",
    "                                constant_c=constant_c,\n",
    "                                gamma=gamma,\n",
    "                                iter_Limit = iter_Limit)\n",
    "        traj, success, iter = MCTS.search(\"{}/tree/{}.png\".format(folder_name, random_seed))\n",
    "        iter += 1\n",
    "        mcts_result[\"iter_cnt\"][random_seed] = iter\n",
    "\n",
    "        if success:\n",
    "            mcts_success_rate += 1\n",
    "            MCTS.env.plot_grid(0, traj, \"{}/traj/{}.png\".format(folder_name, random_seed))\n",
    "            print(f'success with {iter}')\n",
    "        else:\n",
    "            MCTS.env.plot_grid(0, traj, \"{}/traj/{}.png\".format(folder_name, random_seed))\n",
    "            print('Failed')\n",
    "        \n",
    "        wandb.log({f\"{random_seed}\": wandb.Image(\"{}/tree/{}.png\".format(folder_name, random_seed))})\n",
    "        wandb.log({f\"{random_seed}\": wandb.Image(\"{}/traj/{}.png\".format(folder_name, random_seed))})\n",
    "\n",
    "    mcts_result[\"success_rate\"] = mcts_success_rate\n",
    "    with open(\"{}/result.json\".format(folder_name), 'w') as result_file:\n",
    "        json.dump(mcts_result, result_file)\n",
    "    x_values, y_values = cumul_plot(iter_Limit, mcts_result, folder_name)\n",
    "    wandb.log({\"iteration_plot\": wandb.Image(\"{}/success_rate.png\".format(folder_name))})\n",
    "    \n",
    "    data = [[x, y] for (x, y) in zip(x_values, y_values)]\n",
    "    table = wandb.Table(data=data, columns = [\"x\", \"y\"])\n",
    "    wandb.log(\n",
    "        {\"Iteration_Plot\" : wandb.plot.line(table, \"x\", \"y\",\n",
    "            title=\"Iteration vs Success Rate Plot\")})\n",
    "    return mcts_result\n"
   ]
  },
  {
   "cell_type": "code",
   "execution_count": null,
   "id": "38104965",
   "metadata": {},
   "outputs": [],
   "source": [
    "# Launch experiment\n",
    "total_runs = 1\n",
    "for run in range(total_runs):\n",
    "    # 1. Start a new run to track script\n",
    "    explorationConstant = [0.25, 0.5, 1.0]\n",
    "    iter_Limit = [10000]\n",
    "    alpha = [0.01, 0.025, 0.05]\n",
    "    constant_c = [2]\n",
    "    gamma = [1]\n",
    "\n",
    "    # Create a list of parameter arrays\n",
    "    parameters = [explorationConstant, iter_Limit, alpha, constant_c, gamma]\n",
    "\n",
    "    # Generate all possible combinations\n",
    "    param_combinations = list(product(*parameters))\n",
    "\n",
    "    # Print the combinations\n",
    "    for param in param_combinations:\n",
    "        folder_name = os.path.join(PLAIN_MCTS_EXPERIMENT_DIR,\"plain_mcts_{}_{}_{}_{}_{}\" \\\n",
    "                    .format(param[0], param[1], param[2], param[3], param[4]))\n",
    "        folder_exists = make_param_dir(folder_name)\n",
    "        print(\"Param to check\", param)\n",
    "\n",
    "\n",
    "        if not folder_exists:\n",
    "\n",
    "            wandb.init(\n",
    "                # Project_name\n",
    "                project='plain-mcts',\n",
    "                # Run_name\n",
    "                name=f\"plain_mcts_{run}_{param[0]}_{param[1]}_{param[2]}_{param[3]}_{param[4]}\",\n",
    "                # Track hyperparameters and run metadata\n",
    "                config={\n",
    "                    \"goal_distance\": goal_distance,\n",
    "                    \"num_barrier\": num_barrier,\n",
    "                    \"H_level\": 2,\n",
    "                    \"explorationConstant\": param[0],\n",
    "                    \"iter_Limit\": param[1],\n",
    "                    \"alpha\": param[2],\n",
    "                    \"constant_c\": param[3],\n",
    "                    \"gamma\": param[4],\n",
    "                }\n",
    "            )\n",
    "            wandb.run.log_code(\".\")\n",
    "            \n",
    "            make_param_dir(\"{}/traj\".format(folder_name))\n",
    "            make_param_dir(\"{}/tree\".format(folder_name))\n",
    "            make_param_dir(\"{}/found_path\".format(folder_name))\n",
    "            mcts_result = test_plain_mcts(param, grid_setting, folder_name)\n",
    "            wandb.log(mcts_result)\n",
    "    \n",
    "        # This simple block simulates a training loop loggin metrics\n",
    "        wandb.finish()"
   ]
  }
 ],
 "metadata": {
  "kernelspec": {
   "display_name": "Python 3 (ipykernel)",
   "language": "python",
   "name": "python3"
  },
  "language_info": {
   "codemirror_mode": {
    "name": "ipython",
    "version": 3
   },
   "file_extension": ".py",
   "mimetype": "text/x-python",
   "name": "python",
   "nbconvert_exporter": "python",
   "pygments_lexer": "ipython3",
   "version": "3.11.3"
  }
 },
 "nbformat": 4,
 "nbformat_minor": 5
}
