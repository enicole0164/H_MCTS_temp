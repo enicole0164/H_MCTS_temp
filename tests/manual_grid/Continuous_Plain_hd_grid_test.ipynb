{
 "cells": [
  {
   "cell_type": "markdown",
   "metadata": {},
   "source": [
    "# Continuous Plain MCTS in hand-designed grid"
   ]
  },
  {
   "cell_type": "code",
   "execution_count": 1,
   "metadata": {},
   "outputs": [],
   "source": [
    "import math\n",
    "import json\n",
    "from itertools import product\n",
    "import os\n",
    "import sys\n",
    "\n",
    "from hd_grid import hd_grids, number_grids, maze_grids"
   ]
  },
  {
   "cell_type": "code",
   "execution_count": 2,
   "metadata": {},
   "outputs": [
    {
     "name": "stdout",
     "output_type": "stream",
     "text": [
      "Intel MKL WARNING: Support of Intel(R) Streaming SIMD Extensions 4.2 (Intel(R) SSE4.2) enabled only processors has been deprecated. Intel oneAPI Math Kernel Library 2025.0 will require Intel(R) Advanced Vector Extensions (Intel(R) AVX) instructions.\n",
      "Intel MKL WARNING: Support of Intel(R) Streaming SIMD Extensions 4.2 (Intel(R) SSE4.2) enabled only processors has been deprecated. Intel oneAPI Math Kernel Library 2025.0 will require Intel(R) Advanced Vector Extensions (Intel(R) AVX) instructions.\n"
     ]
    }
   ],
   "source": [
    "module_path = os.path.abspath(os.path.join('..'))\n",
    "if module_path not in sys.path:\n",
    "    sys.path.append(module_path)\n",
    "\n",
    "from utils import *\n",
    "sys.path.append(ROOT_DIR)\n",
    "\n",
    "from src.Env.Grid.Cont_Grid import Continuous_Grid\n",
    "from src.Planners.H_MCTS_continuous.Plain_MCTS_cont import Plain_MCTS_Cont"
   ]
  },
  {
   "cell_type": "code",
   "execution_count": 3,
   "metadata": {},
   "outputs": [],
   "source": [
    "# Basic Setup for environment\n",
    "l1_rows = 8\n",
    "l1_cols = 8\n",
    "l1_width = 2\n",
    "l1_height = 2\n",
    "goal_distance = 3\n",
    "grid_setting = (l1_rows, l1_cols, l1_width, l1_height, goal_distance)\n",
    "cont_action_radius=2"
   ]
  },
  {
   "cell_type": "code",
   "execution_count": 4,
   "metadata": {},
   "outputs": [],
   "source": [
    "random_seed = 0"
   ]
  },
  {
   "cell_type": "code",
   "execution_count": 5,
   "metadata": {},
   "outputs": [
    {
     "name": "stdout",
     "output_type": "stream",
     "text": [
      "Folder /Users/jaenic/Documents/GitHub/H_MCTS/experiments_hd_grid/Plain-MCTS/maze_grids_test_0.25_10000_0.09_2_1 already exists\n",
      "success with 385\n",
      "385\n",
      "Failed\n",
      "10001\n",
      "success with 372\n",
      "372\n",
      "Failed\n",
      "10001\n",
      "Failed\n",
      "10001\n",
      "Failed\n",
      "10001\n",
      "success with 184\n",
      "184\n",
      "Failed\n",
      "10001\n",
      "Failed\n",
      "10001\n",
      "Failed\n",
      "10001\n"
     ]
    }
   ],
   "source": [
    "# Plain MCTS\n",
    "# Used hyperparameter from best result until now\n",
    "explorationConstant = 0.25\n",
    "alpha = 0.09\n",
    "constant_c = 2\n",
    "gamma = 1\n",
    "iter_Limit = 10000\n",
    "\n",
    "folder_name = os.path.join(HD_PLAIN_MCTS_EXPERIMENT_DIR, \\\n",
    "                        'maze_grids_test_{}_{}_{}_{}_{}'.format(explorationConstant, iter_Limit, alpha, constant_c, gamma))\n",
    "tree_folder_name = os.path.join(folder_name, 'tree')\n",
    "traj_folder_name = os.path.join(folder_name, 'traj')\n",
    "\n",
    "exists = make_param_dir(folder_name)\n",
    "if not exists:\n",
    "    make_param_dir(tree_folder_name)\n",
    "    make_param_dir(traj_folder_name)\n",
    "\n",
    "# for gi in range(len(hd_grids)):\n",
    "for gi in range(len(maze_grids)):\n",
    "    MCTS = Plain_MCTS_Cont(grid_setting, random_seed=random_seed,\n",
    "                            explorationConstant=1 / math.sqrt(explorationConstant),\n",
    "                            alpha=alpha,\n",
    "                            constant_c=constant_c,\n",
    "                            gamma=gamma,\n",
    "                            iter_Limit = iter_Limit,\n",
    "                            assigned_barrier=maze_grids[gi].barriers,\n",
    "                            assigned_start_goal=maze_grids[gi].start_goal,\n",
    "                            cont_action_radius=cont_action_radius,)\n",
    "    traj, success, iter = MCTS.search(\"{}/tree/{}.png\".format(folder_name, gi))\n",
    "    iter += 1\n",
    "\n",
    "    if success:\n",
    "        MCTS.env.plot_grid(0, traj, \"{}/traj/{}.png\".format(folder_name, gi))\n",
    "        print(f'success with {iter}')\n",
    "    else:\n",
    "        MCTS.env.plot_grid(0, traj, \"{}/traj/{}.png\".format(folder_name, gi))\n",
    "        print('Failed')\n",
    "\n",
    "    print(iter)\n"
   ]
  }
 ],
 "metadata": {
  "kernelspec": {
   "display_name": "H_MCTS",
   "language": "python",
   "name": "python3"
  },
  "language_info": {
   "codemirror_mode": {
    "name": "ipython",
    "version": 3
   },
   "file_extension": ".py",
   "mimetype": "text/x-python",
   "name": "python",
   "nbconvert_exporter": "python",
   "pygments_lexer": "ipython3",
   "version": "3.11.3"
  },
  "orig_nbformat": 4
 },
 "nbformat": 4,
 "nbformat_minor": 2
}
