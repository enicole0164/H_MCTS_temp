{
 "cells": [
  {
   "cell_type": "markdown",
   "metadata": {},
   "source": [
    "# Continuous Plain MCTS in hand-designed grid"
   ]
  },
  {
   "cell_type": "code",
   "execution_count": null,
   "metadata": {},
   "outputs": [],
   "source": [
    "import wandb\n",
    "wandb.login()"
   ]
  },
  {
   "cell_type": "code",
   "execution_count": null,
   "metadata": {},
   "outputs": [],
   "source": [
    "import math\n",
    "import json\n",
    "from itertools import product\n",
    "import os\n",
    "import sys\n",
    "\n",
    "from hd_grid import hd_grids, number_grids, maze_grids"
   ]
  },
  {
   "cell_type": "code",
   "execution_count": null,
   "metadata": {},
   "outputs": [],
   "source": [
    "module_path = os.path.abspath(os.path.join('..'))\n",
    "if module_path not in sys.path:\n",
    "    sys.path.append(module_path)\n",
    "\n",
    "from utils import *\n",
    "sys.path.append(ROOT_DIR)\n",
    "\n",
    "from src.Env.Grid.Cont_Grid import Continuous_Grid\n",
    "from src.Planners.H_MCTS_continuous.Plain_MCTS_cont import Plain_MCTS_Cont"
   ]
  },
  {
   "cell_type": "code",
   "execution_count": null,
   "metadata": {},
   "outputs": [],
   "source": [
    "# Basic Setup for environment\n",
    "l1_rows = 8\n",
    "l1_cols = 8\n",
    "l1_width = 2\n",
    "l1_height = 2\n",
    "goal_distance = 3\n",
    "grid_setting = (l1_rows, l1_cols, l1_width, l1_height, goal_distance)\n",
    "cont_action_radius=2"
   ]
  },
  {
   "cell_type": "code",
   "execution_count": null,
   "metadata": {},
   "outputs": [],
   "source": [
    "random_seed = 0"
   ]
  },
  {
   "cell_type": "code",
   "execution_count": null,
   "metadata": {},
   "outputs": [],
   "source": [
    "def test_plain_mcts(param, grid_setting, folder_name):\n",
    "    mcts_result = {}\n",
    "    mcts_result[\"iter_cnt\"] = {}\n",
    "    mcts_success_rate = 0\n",
    "\n",
    "    # # Plain MCTS\n",
    "    # # Used hyperparameter from best result until now\n",
    "    # explorationConstant = 0.25\n",
    "    # alpha = 0.09\n",
    "    # constant_c = 2\n",
    "    # gamma = 1\n",
    "    # iter_Limit = 10000\n",
    "\n",
    "    explorationConstant = param[0]\n",
    "    iter_Limit = param[1]\n",
    "    alpha = param[2]\n",
    "    constant_c = param[3]\n",
    "    gamma = param[4]\n",
    "\n",
    "    for gi in range(len(number_grids)):\n",
    "        MCTS = Plain_MCTS_Cont(grid_setting, random_seed=random_seed,\n",
    "                                explorationConstant=1 / math.sqrt(explorationConstant),\n",
    "                                alpha=alpha,\n",
    "                                constant_c=constant_c,\n",
    "                                gamma=gamma,\n",
    "                                iter_Limit = iter_Limit,\n",
    "                                assigned_barrier=number_grids[gi].barriers,\n",
    "                                assigned_start_goal=number_grids[gi].start_goal,\n",
    "                                cont_action_radius=cont_action_radius,)\n",
    "        traj, success, iter = MCTS.search(\"{}/tree/{}.png\".format(folder_name, gi))\n",
    "        iter += 1\n",
    "        mcts_result[\"iter_cnt\"][gi] = iter\n",
    "\n",
    "        if success:\n",
    "            mcts_success_rate += 1\n",
    "            MCTS.env.plot_grid(0, traj, \"{}/traj/{}.png\".format(folder_name, gi))\n",
    "            print(f'success with {iter}')\n",
    "        else:\n",
    "            MCTS.env.plot_grid(0, traj, \"{}/traj/{}.png\".format(folder_name, gi))\n",
    "            print('Failed')\n",
    "        \n",
    "        wandb.log({f\"tree_{gi}\": wandb.Image(\"{}/tree/{}.png\".format(folder_name, gi))})\n",
    "        wandb.log({f\"traj_{gi}\": wandb.Image(\"{}/traj/{}.png\".format(folder_name, gi))})\n",
    "\n",
    "    mcts_result[\"success_rate\"] = mcts_success_rate\n",
    "    with open(\"{}/result.json\".format(folder_name), 'w') as result_file:\n",
    "            json.dump(mcts_result, result_file)\n",
    "    \n",
    "    x_values, y_values = cumul_plot(iter_Limit, mcts_result, folder_name)\n",
    "    wandb.log({\"iteration_plot\": wandb.Image(\"{}/success_rate.png\".format(folder_name))})\n",
    "    data = [[x, y] for (x, y) in zip(x_values, y_values)]\n",
    "    table = wandb.Table(data=data, columns = [\"x\", \"y\"])\n",
    "    wandb.log(\n",
    "        {\"Iteration_Plot\" : wandb.plot.line(table, \"x\", \"y\",\n",
    "            title=\"Iteration vs Success Rate Plot\")})\n",
    "    return mcts_result\n"
   ]
  },
  {
   "cell_type": "code",
   "execution_count": null,
   "metadata": {},
   "outputs": [],
   "source": [
    "# Launch Experiment\n",
    "total_runs = 10\n",
    "for run in range(total_runs):\n",
    "    # 1. Start a new run to track script\n",
    "    explorationConstant = [0.16, 0.25, 0.5, 1.0]\n",
    "    iter_Limit = [10000]\n",
    "    alpha = [0.01, 0.025, 0.05, 0.09]\n",
    "    constant_c = [2]\n",
    "    gamma = [1]\n",
    "\n",
    "    # Create a list of parameter arrays\n",
    "    parameters = [explorationConstant, iter_Limit, alpha, constant_c, gamma]\n",
    "\n",
    "    # Generate all possible combinations\n",
    "    param_combinations = list(product(*parameters))\n",
    "\n",
    "    # Print the combinations\n",
    "    for param in param_combinations:\n",
    "        print(\"Param to check\", param)\n",
    "\n",
    "        folder_name = os.path.join(HD_PLAIN_MCTS_EXPERIMENT_DIR, \\\n",
    "                                'wandb_num_grids_test_{}_{}_{}_{}_{}'.format(param[0], param[1], param[2], param[3], param[4]))\n",
    "        tree_folder_name = os.path.join(folder_name, 'tree')\n",
    "        traj_folder_name = os.path.join(folder_name, 'traj')\n",
    "\n",
    "        exists = make_param_dir(folder_name)\n",
    "        if not exists:\n",
    "            make_param_dir(tree_folder_name)\n",
    "            make_param_dir(traj_folder_name)\n",
    "\n",
    "            wandb.init(\n",
    "                # Project_name\n",
    "                project='num-grid',\n",
    "                # Run_name\n",
    "                name=f\"plain_mcts_{run}_{param[0]}_{param[1]}_{param[2]}_{param[3]}_{param[4]}\",\n",
    "                # Track hyperparameters and run metadata\n",
    "                config={\n",
    "                    \"explorationConstant\": param[0],\n",
    "                    \"iter_Limit\": param[1],\n",
    "                    \"alpha\": param[2],\n",
    "                    \"constant_c\": param[3],\n",
    "                    \"gamma\": param[4],\n",
    "                }\n",
    "            )\n",
    "            wandb.run.log_code(\".\")\n",
    "            \n",
    "            mcts_result = test_plain_mcts(param, grid_setting, folder_name)\n",
    "            wandb.log(mcts_result)\n",
    "        \n",
    "        # This simple block simulates a training loop loggin metrics\n",
    "        wandb.finish()\n",
    "\n",
    "\n"
   ]
  }
 ],
 "metadata": {
  "kernelspec": {
   "display_name": "H_MCTS",
   "language": "python",
   "name": "python3"
  },
  "language_info": {
   "codemirror_mode": {
    "name": "ipython",
    "version": 3
   },
   "file_extension": ".py",
   "mimetype": "text/x-python",
   "name": "python",
   "nbconvert_exporter": "python",
   "pygments_lexer": "ipython3",
   "version": "3.11.3"
  },
  "orig_nbformat": 4
 },
 "nbformat": 4,
 "nbformat_minor": 2
}
