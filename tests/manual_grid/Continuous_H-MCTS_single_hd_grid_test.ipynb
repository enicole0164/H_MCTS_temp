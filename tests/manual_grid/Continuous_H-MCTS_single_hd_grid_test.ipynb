{
 "cells": [
  {
   "cell_type": "markdown",
   "metadata": {},
   "source": [
    "# Continuous Single H-MCTS in hand-designed grid"
   ]
  },
  {
   "cell_type": "code",
   "execution_count": 1,
   "metadata": {},
   "outputs": [],
   "source": [
    "import math\n",
    "import json\n",
    "from itertools import product\n",
    "import os\n",
    "import sys\n",
    "\n",
    "from hd_grid import hd_grids, number_grids, maze_grids"
   ]
  },
  {
   "cell_type": "code",
   "execution_count": 2,
   "metadata": {},
   "outputs": [
    {
     "name": "stdout",
     "output_type": "stream",
     "text": [
      "Intel MKL WARNING: Support of Intel(R) Streaming SIMD Extensions 4.2 (Intel(R) SSE4.2) enabled only processors has been deprecated. Intel oneAPI Math Kernel Library 2025.0 will require Intel(R) Advanced Vector Extensions (Intel(R) AVX) instructions.\n",
      "Intel MKL WARNING: Support of Intel(R) Streaming SIMD Extensions 4.2 (Intel(R) SSE4.2) enabled only processors has been deprecated. Intel oneAPI Math Kernel Library 2025.0 will require Intel(R) Advanced Vector Extensions (Intel(R) AVX) instructions.\n"
     ]
    }
   ],
   "source": [
    "module_path = os.path.abspath(os.path.join('..'))\n",
    "if module_path not in sys.path:\n",
    "    sys.path.append(module_path)\n",
    "\n",
    "from utils import *\n",
    "sys.path.append(ROOT_DIR)\n",
    "\n",
    "from src.Env.Grid.Cont_Grid import Continuous_Grid\n",
    "from src.Env.Grid.Higher_Grids_HW import HighLevelGrids2\n",
    "from src.Planners.H_MCTS_continuous.version.H_MCTS_Cont_single import H_MCTS_Cont"
   ]
  },
  {
   "cell_type": "code",
   "execution_count": 3,
   "metadata": {},
   "outputs": [],
   "source": [
    "# Basic Setup for environment\n",
    "l1_rows = 8\n",
    "l1_cols = 8\n",
    "l1_width = 2\n",
    "l1_height = 2\n",
    "goal_distance = 3\n",
    "grid_setting = (l1_rows, l1_cols, l1_width, l1_height, goal_distance)\n",
    "cont_action_radius = 2"
   ]
  },
  {
   "cell_type": "code",
   "execution_count": 4,
   "metadata": {},
   "outputs": [],
   "source": [
    "random_seed = 0"
   ]
  },
  {
   "cell_type": "code",
   "execution_count": 5,
   "metadata": {},
   "outputs": [
    {
     "name": "stdout",
     "output_type": "stream",
     "text": [
      "Folder /Users/jaenic/Documents/GitHub/H_MCTS/experiments_hd_grid/H-MCTS/single/maze_grids_test_0.25_10000_0.09_2_1 already exists\n",
      "FOUND PATH IN LEVEL  2 [(2, 0, 1), (2, 0, 2), (2, 0, 3), (2, 1, 3), (2, 2, 3), (2, 3, 3)]\n",
      "FOUND PATH IN LEVEL  1 [(1, 0, 1), (1, 0, 2), (1, 0, 3), (1, 0, 4), (1, 0, 5), (1, 0, 6), (1, 1, 6), (1, 2, 6), (1, 3, 6), (1, 4, 6), (1, 5, 6), (1, 6, 6), (1, 7, 6), (1, 7, 7)]\n",
      "FOUND PATH IN LEVEL  0 [(0, 1.4210061085918055, 2.113175749113421), (0, 1.4660225527069268, 2.133416260452875), (0, 1.8750245516138349, 4.071405498764946), (0, 3.1526607247361973, 5.234432515075925), (0, 3.851140261517445, 5.997879238021414), (0, 4.423964952406024, 4.2043799195988205), (0, 5.655446830467936, 4.307038624367954), (0, 5.897662434379154, 5.008079847102323), (0, 5.535083208527306, 5.980343161041917), (0, 6.291156947947677, 5.767906703799356), (0, 7.071557120186455, 5.999999), (0, 8.694722270336772, 5.851619940405864), (0, 8.683736239773834, 5.862931150995249), (0, 9.958869964647844, 5.438502618872598), (0, 11.487097276760476, 6.597957974041793), (0, 11.999999, 6.693097438376417), (0, 10.99901728740823, 7.835058460914553), (0, 10.949052538641462, 8.563169795913698), (0, 10.000001, 9.491679662293548), (0, 10.000001, 9.491681366033555), (0, 11.686027219104881, 10.121249638042896), (0, 13.297793306783978, 11.23821813521757), (0, 12.699951402247166, 12.629974880855453), (0, 13.48878437118269, 12.06560863890374), (0, 14.897554650521936, 12.413738088397064), (0, 14.681931706506644, 12.470590785666515), (0, 14.420336096855912, 13.059796501872718), (0, 15.075167390619129, 14.375471655645732)]\n",
      "success with 579\n",
      "579\n",
      "FOUND PATH IN LEVEL  2 [(2, 1, 0), (2, 2, 0), (2, 3, 0)]\n",
      "FOUND PATH IN LEVEL  1 [(1, 1, 0), (1, 2, 0), (1, 3, 0), (1, 4, 0), (1, 5, 0), (1, 6, 0), (1, 7, 0)]\n",
      "Failed\n",
      "10001\n",
      "FOUND PATH IN LEVEL  2 [(2, 1, 1), (2, 1, 2), (2, 2, 2), (2, 3, 2)]\n",
      "FOUND PATH IN LEVEL  1 [(1, 1, 2), (1, 2, 2), (1, 2, 3), (1, 2, 4), (1, 3, 4), (1, 4, 4), (1, 5, 4), (1, 6, 4), (1, 6, 5)]\n",
      "FOUND PATH IN LEVEL  0 [(0, 1.3674050073916268, 5.999999), (0, 1.3674072314680883, 5.999999), (0, 2.2222288816271893, 5.351193215812231), (0, 2.167792033806618, 5.999999), (0, 3.04407980197919, 5.097451280696243), (0, 4.067037434528949, 5.26384118928805), (0, 4.765516971310197, 6.02728791223354), (0, 5.225819328211233, 7.060209390297841), (0, 4.936939164772325, 7.081929075348455), (0, 4.433391936940986, 8.938734551114187), (0, 4.597700623774126, 9.948086354540793), (0, 5.999999, 9.595865505749462), (0, 5.999999, 9.59587442698201), (0, 5.999999, 9.595875749257033), (0, 5.999999, 9.595873893335238), (0, 5.7300430147626615, 9.974800056600085), (0, 7.017879779098756, 10.469368056432078), (0, 7.019634585148259, 10.000001), (0, 7.847044869191444, 10.920422386029678), (0, 8.731020985101498, 10.000001), (0, 10.523639415696627, 10.412942688743746), (0, 10.353831923242293, 10.141169575917893), (0, 10.000001, 9.58994501680643), (0, 11.412099365009357, 10.579180016288749), (0, 11.647429412106586, 11.001102975257092), (0, 13.251623457334173, 11.61922781913232)]\n",
      "success with 316\n",
      "316\n",
      "FOUND PATH IN LEVEL  2 [(2, 2, 0), (2, 3, 0)]\n",
      "FOUND PATH IN LEVEL  1 [(1, 3, 1), (1, 4, 1), (1, 5, 1), (1, 6, 1), (1, 6, 0)]\n",
      "Failed\n",
      "10001\n",
      "FOUND PATH IN LEVEL  2 [(2, 1, 0), (2, 2, 0), (2, 3, 0), (2, 3, 1), (2, 3, 2), (2, 3, 3)]\n",
      "FOUND PATH IN LEVEL  1 [(1, 1, 0), (1, 2, 0), (1, 3, 0), (1, 4, 0), (1, 5, 0), (1, 6, 0), (1, 7, 0), (1, 7, 1), (1, 7, 2), (1, 7, 3), (1, 7, 4), (1, 7, 5), (1, 7, 6), (1, 7, 7)]\n",
      "FOUND PATH IN LEVEL  0 [(0, 2.232699784332442, 0.06375189226868305), (0, 2.2603947811586775, 1e-06), (0, 3.793282803381384, 0.5088148190761186), (0, 3.99570588868549, 0.7815409622415999), (0, 4.059720351764709, 2.6569610385761875), (0, 5.182153350982238, 4.227240437788288), (0, 4.5448176682221995, 5.990944363795592), (0, 4.000001, 6.328936208582603), (0, 4.625358183063867, 8.208960542958657), (0, 5.655755942522712, 9.023839008380738), (0, 7.065608616530455, 9.775916179093919), (0, 8.536588313365364, 10.4300597663957), (0, 8.456212235274625, 10.467108841038684), (0, 10.12555526789724, 10.815832229255323), (0, 10.507705929605919, 10.477304879547033), (0, 10.629181374060229, 10.082675360609324), (0, 12.475789661246912, 9.587206583629177), (0, 13.447906288765292, 9.66873157679236), (0, 14.90400296880911, 9.362861698853077), (0, 14.278518693227015, 9.313996898927149), (0, 14.668442389725506, 8.85350273884568), (0, 14.133010525582717, 9.047695015856503), (0, 15.40138687212781, 10.453078491037758), (0, 15.119772450528508, 11.106860568190166), (0, 15.491404508739516, 11.128479277366596), (0, 15.554241268316296, 11.185689493926388), (0, 15.999999, 12.217847388321406), (0, 15.999999, 12.217847012457815), (0, 15.999999, 12.21784603507871), (0, 15.347679383515416, 14.031013661374347), (0, 15.980168418146592, 14.70132358686998)]\n",
      "success with 1048\n",
      "1048\n",
      "FOUND PATH IN LEVEL  2 [(2, 1, 0), (2, 2, 0), (2, 3, 0)]\n",
      "FOUND PATH IN LEVEL  1 [(1, 1, 0), (1, 2, 0), (1, 3, 0), (1, 4, 0), (1, 5, 0), (1, 6, 0), (1, 7, 0)]\n",
      "Failed\n",
      "10001\n",
      "FOUND PATH IN LEVEL  2 [(2, 1, 3), (2, 2, 3), (2, 3, 3), (2, 3, 2), (2, 3, 1), (2, 3, 0)]\n",
      "FOUND PATH IN LEVEL  1 [(1, 1, 7), (1, 2, 7), (1, 3, 7), (1, 4, 7), (1, 5, 7), (1, 6, 7), (1, 6, 6), (1, 6, 5), (1, 6, 4), (1, 6, 3), (1, 6, 2), (1, 6, 1), (1, 7, 1), (1, 7, 0)]\n",
      "Failed\n",
      "10001\n",
      "FOUND PATH IN LEVEL  2 [(2, 3, 2), (2, 3, 1), (2, 3, 0)]\n",
      "FOUND PATH IN LEVEL  1 [(1, 7, 6), (1, 7, 5), (1, 7, 4), (1, 7, 3), (1, 7, 2), (1, 7, 1), (1, 7, 0)]\n",
      "Failed\n",
      "10001\n",
      "FOUND PATH IN LEVEL  2 [(2, 0, 2), (2, 0, 1), (2, 0, 0)]\n",
      "FOUND PATH IN LEVEL  1 [(1, 0, 6), (1, 0, 5), (1, 0, 4), (1, 0, 3), (1, 0, 2), (1, 0, 1), (1, 0, 0)]\n",
      "Failed\n",
      "10001\n",
      "FOUND PATH IN LEVEL  2 [(2, 2, 2)]\n",
      "FOUND PATH IN LEVEL  1 [(1, 5, 6), (1, 5, 5), (1, 5, 4)]\n",
      "Failed\n",
      "10001\n"
     ]
    }
   ],
   "source": [
    "# Single H-MCTS\n",
    "# Used hyperparameter from best result until now\n",
    "explorationConstant = 0.25\n",
    "alpha = 0.09\n",
    "constant_c = 2\n",
    "gamma = 1\n",
    "iter_Limit = 10000\n",
    "\n",
    "folder_name = os.path.join(HD_SINGLE_H_MCTS_EXPERIMENT_DIR, \\\n",
    "                        'maze_grids_test_{}_{}_{}_{}_{}'.format(explorationConstant, iter_Limit, alpha, constant_c, gamma))\n",
    "tree_folder_name = os.path.join(folder_name, 'tree')\n",
    "traj_folder_name = os.path.join(folder_name, 'traj')\n",
    "exists = make_param_dir(folder_name)\n",
    "if not exists:\n",
    "    make_param_dir(tree_folder_name)\n",
    "    make_param_dir(traj_folder_name)\n",
    "    \n",
    "\n",
    "# for gi in range(len(hd_grids)):\n",
    "for gi in range(len(maze_grids)):\n",
    "\n",
    "\n",
    "    MCTS = H_MCTS_Cont(grid_setting, random_seed=random_seed,\n",
    "                            H_level=2,\n",
    "                            explorationConstant_h=1 / math.sqrt(explorationConstant),\n",
    "                            explorationConstant_l=1 / math.sqrt(explorationConstant),\n",
    "                            alpha=alpha,\n",
    "                            constant_c=constant_c,\n",
    "                            gamma=gamma,\n",
    "                            iter_Limit = iter_Limit,\n",
    "                            l1_subgoal_reward=100,\n",
    "                            l1_goal_reward=100,\n",
    "                            assigned_barrier=maze_grids[gi].barriers,\n",
    "                            assigned_start_goal=maze_grids[gi].start_goal,\n",
    "                            cont_action_radius=cont_action_radius)\n",
    "    traj, success, iter = MCTS.search(\"{}/tree/{}.png\".format(folder_name, gi))\n",
    "    iter += 1\n",
    "\n",
    "    if success:\n",
    "        MCTS.cont_env.plot_grid(0, traj, \"{}/traj/{}.png\".format(folder_name, gi))\n",
    "        print(f'success with {iter}')\n",
    "    else:\n",
    "        MCTS.cont_env.plot_grid(0, traj, \"{}/traj/{}.png\".format(folder_name, gi))\n",
    "        print('Failed')\n",
    "\n",
    "    print(iter)\n"
   ]
  }
 ],
 "metadata": {
  "kernelspec": {
   "display_name": "H_MCTS",
   "language": "python",
   "name": "python3"
  },
  "language_info": {
   "codemirror_mode": {
    "name": "ipython",
    "version": 3
   },
   "file_extension": ".py",
   "mimetype": "text/x-python",
   "name": "python",
   "nbconvert_exporter": "python",
   "pygments_lexer": "ipython3",
   "version": "3.11.3"
  },
  "orig_nbformat": 4
 },
 "nbformat": 4,
 "nbformat_minor": 2
}
