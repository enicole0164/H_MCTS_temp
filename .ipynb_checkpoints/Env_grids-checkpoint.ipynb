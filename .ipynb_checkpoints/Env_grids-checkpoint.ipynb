{
 "cells": [
  {
   "cell_type": "code",
   "execution_count": 1,
   "id": "e5036699-16f0-471a-a181-6be038e263a6",
   "metadata": {},
   "outputs": [],
   "source": [
    "import numpy as np\n",
    "import math\n",
    "import random\n",
    "\n",
    "from src.Env.Grid.l0_Grid_w_agent import lowest_Grid_w_agent\n",
    "from src.Env.Grid.Higher_Grid_w_agent import high_Grid_w_agent\n",
    "from src.Env.Grid.All_level_Grid_w_agent import All_level_Grids_w_agent, high_level_Grids_w_agent\n",
    "\n",
    "from src.Env.Grid.Higher_Grids import high_level_Grids"
   ]
  },
  {
   "cell_type": "code",
   "execution_count": 2,
   "id": "5f33c610-a087-4f3d-9ea5-48444afb419e",
   "metadata": {},
   "outputs": [],
   "source": [
    "l1_rows = 8\n",
    "l1_cols = 8\n",
    "l1_width = 2\n",
    "l1_height = 2"
   ]
  },
  {
   "cell_type": "code",
   "execution_count": 3,
   "id": "33fa338a-e110-4b08-887b-d4e56e0e7d92",
   "metadata": {
    "tags": []
   },
   "outputs": [],
   "source": [
    "# All_Grid = All_level_Grids_w_agent(l1_rows, l1_cols, l1_width, l1_height)\n",
    "\n",
    "# for idx, grid in enumerate(All_Grid.Grid_list):\n",
    "#     grid.plot_grid()\n",
    "#     print(grid)\n",
    "#     while not grid.agent.is_Arrived:\n",
    "#         if grid.level == 0:\n",
    "#             dx, dy = grid.agent.random_action()\n",
    "#         else:\n",
    "#             possible_actions = grid.get_possible_A(grid.agent.x, grid.agent.y)\n",
    "#             dx, dy = grid.agent.random_action(possible_actions)\n",
    "        \n",
    "#         dx, dy = grid.agent.move_plan(dx, dy)\n",
    "#         grid.move_agent(dx, dy)\n",
    "#     grid.plot_grid()\n",
    "    \n",
    "# high_level_Grids = high_level_Grids_w_agent(l1_rows, l1_cols, l1_width, l1_height)\n",
    "\n",
    "# for idx, grid in enumerate(high_level_Grids.Grid_list):\n",
    "#     grid.plot_grid()\n",
    "#     print(grid)\n",
    "#     while not grid.agent.is_Arrived:\n",
    "#         if grid.level == 0:\n",
    "#             dx, dy = grid.agent.random_action()\n",
    "#         else:\n",
    "#             possible_actions = grid.get_possible_A(grid.agent.x, grid.agent.y)\n",
    "#             dx, dy = grid.agent.random_action(possible_actions)\n",
    "        \n",
    "#         dx, dy = grid.agent.move_plan(dx, dy)\n",
    "#         grid.move_agent(dx, dy)\n",
    "#     grid.plot_grid()"
   ]
  },
  {
   "cell_type": "code",
   "execution_count": 4,
   "id": "9ca69bb3-83d0-4680-9dea-6c8a22c8930e",
   "metadata": {},
   "outputs": [],
   "source": [
    "Env = high_level_Grids(l1_rows, l1_cols, l1_width, l1_height)"
   ]
  },
  {
   "cell_type": "code",
   "execution_count": null,
   "id": "a6a36242-658e-4108-b90d-1b1ca81cb47c",
   "metadata": {},
   "outputs": [],
   "source": []
  }
 ],
 "metadata": {
  "kernelspec": {
   "display_name": "Python 3 (ipykernel)",
   "language": "python",
   "name": "python3"
  },
  "language_info": {
   "codemirror_mode": {
    "name": "ipython",
    "version": 3
   },
   "file_extension": ".py",
   "mimetype": "text/x-python",
   "name": "python",
   "nbconvert_exporter": "python",
   "pygments_lexer": "ipython3",
   "version": "3.9.13"
  }
 },
 "nbformat": 4,
 "nbformat_minor": 5
}
