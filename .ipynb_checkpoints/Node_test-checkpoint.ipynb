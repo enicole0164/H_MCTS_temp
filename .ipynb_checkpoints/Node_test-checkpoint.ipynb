{
 "cells": [
  {
   "cell_type": "code",
   "execution_count": 10,
   "id": "79f99e57-2cf6-45d2-9387-e57f79c73006",
   "metadata": {},
   "outputs": [],
   "source": [
    "from collections import defaultdict\n",
    "from abc import ABC, abstractmethod\n",
    "import time\n",
    "import math\n",
    "import random\n",
    "\n",
    "import numpy as np"
   ]
  },
  {
   "cell_type": "code",
   "execution_count": 11,
   "id": "37a8f26f-b960-41aa-bf27-816859a10cce",
   "metadata": {},
   "outputs": [],
   "source": [
    "from src.model import H_Node\n",
    "from src.Env.Grid.All_level_Grid import Grid"
   ]
  },
  {
   "cell_type": "markdown",
   "id": "e3001a10-d7b0-41ca-abdf-7a09825b1bbf",
   "metadata": {},
   "source": [
    "### Setting Grid Env"
   ]
  },
  {
   "cell_type": "code",
   "execution_count": 12,
   "id": "e4853bfd-3c71-4d0d-a48d-fc2a6148032f",
   "metadata": {},
   "outputs": [],
   "source": [
    "l1_rows = 8\n",
    "l1_cols = 8\n",
    "l1_width = 3\n",
    "l1_height = 2"
   ]
  },
  {
   "cell_type": "code",
   "execution_count": 13,
   "id": "010286f8-58bf-4e75-a35a-2b5aa0f5c536",
   "metadata": {},
   "outputs": [],
   "source": [
    "Grid = Grid(l1_rows, l1_cols, l1_width, l1_height)"
   ]
  },
  {
   "cell_type": "code",
   "execution_count": null,
   "id": "7f474898-4112-49e3-a3a4-0bf351fcf910",
   "metadata": {},
   "outputs": [],
   "source": []
  },
  {
   "cell_type": "code",
   "execution_count": null,
   "id": "02a746fb-2d26-4edb-83b7-91445038964d",
   "metadata": {},
   "outputs": [],
   "source": []
  }
 ],
 "metadata": {
  "kernelspec": {
   "display_name": "Python 3 (ipykernel)",
   "language": "python",
   "name": "python3"
  },
  "language_info": {
   "codemirror_mode": {
    "name": "ipython",
    "version": 3
   },
   "file_extension": ".py",
   "mimetype": "text/x-python",
   "name": "python",
   "nbconvert_exporter": "python",
   "pygments_lexer": "ipython3",
   "version": "3.9.13"
  }
 },
 "nbformat": 4,
 "nbformat_minor": 5
}
