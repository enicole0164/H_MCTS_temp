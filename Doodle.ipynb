{
 "cells": [
  {
   "cell_type": "code",
   "execution_count": 2,
   "id": "561471c4-1d26-4e7c-8d1e-7a09e73bc6fc",
   "metadata": {},
   "outputs": [],
   "source": [
    "import numpy as np"
   ]
  },
  {
   "cell_type": "code",
   "execution_count": 4,
   "id": "a14e0677-7762-4316-9e3d-9fee9be72c84",
   "metadata": {},
   "outputs": [],
   "source": [
    "a, b = np.random.randint(1, 5, 2)"
   ]
  },
  {
   "cell_type": "code",
   "execution_count": 5,
   "id": "49d4b4d3-f963-4ac9-b65e-4a09a6bfddfa",
   "metadata": {},
   "outputs": [
    {
     "data": {
      "text/plain": [
       "3"
      ]
     },
     "execution_count": 5,
     "metadata": {},
     "output_type": "execute_result"
    }
   ],
   "source": [
    "a"
   ]
  },
  {
   "cell_type": "code",
   "execution_count": 6,
   "id": "598a4564-aabf-41aa-b62b-a2bda83da917",
   "metadata": {},
   "outputs": [],
   "source": [
    "for a in []:\n",
    "    print(a)"
   ]
  },
  {
   "cell_type": "code",
   "execution_count": null,
   "id": "f8a69877-b951-4004-a202-c0d92c77a98f",
   "metadata": {},
   "outputs": [],
   "source": [
    "np.linalg.norm("
   ]
  },
  {
   "cell_type": "code",
   "execution_count": 7,
   "id": "b5d58f40-ea14-4161-8812-5e2b0207e19e",
   "metadata": {},
   "outputs": [],
   "source": [
    "a = []\n",
    "b= [ 1, 2, 3]\n",
    "b = all(ac in b for ac in a)"
   ]
  },
  {
   "cell_type": "code",
   "execution_count": 10,
   "id": "d8ff0502-d9ac-42da-b36b-4ff98d67855f",
   "metadata": {},
   "outputs": [
    {
     "data": {
      "text/plain": [
       "True"
      ]
     },
     "execution_count": 10,
     "metadata": {},
     "output_type": "execute_result"
    }
   ],
   "source": [
    "all([])"
   ]
  },
  {
   "cell_type": "code",
   "execution_count": 11,
   "id": "fa971c67-90c1-46d5-8d41-e907c3a5b6fe",
   "metadata": {},
   "outputs": [],
   "source": [
    "a = b == 0"
   ]
  },
  {
   "cell_type": "code",
   "execution_count": 12,
   "id": "7e507fad-00c4-4271-aab4-bf2642772aa1",
   "metadata": {},
   "outputs": [
    {
     "data": {
      "text/plain": [
       "False"
      ]
     },
     "execution_count": 12,
     "metadata": {},
     "output_type": "execute_result"
    }
   ],
   "source": [
    "a"
   ]
  },
  {
   "cell_type": "code",
   "execution_count": 16,
   "id": "43cd7fd4-9ad7-422f-90f9-747dc1c33126",
   "metadata": {},
   "outputs": [],
   "source": [
    "a = {((1, 2, 3), (1, 2, 3)), ((1, 2, 3), (1, 2, 3)), ((1, 2, 3), (1, 2, 3))}"
   ]
  },
  {
   "cell_type": "code",
   "execution_count": 19,
   "id": "aa9b2ba5-d769-46bd-9627-392593836aa5",
   "metadata": {},
   "outputs": [
    {
     "ename": "ValueError",
     "evalue": "not enough values to unpack (expected 6, got 2)",
     "output_type": "error",
     "traceback": [
      "\u001b[0;31m---------------------------------------------------------------------------\u001b[0m",
      "\u001b[0;31mValueError\u001b[0m                                Traceback (most recent call last)",
      "Cell \u001b[0;32mIn [19], line 1\u001b[0m\n\u001b[0;32m----> 1\u001b[0m \u001b[38;5;28;01mfor\u001b[39;00m i, b, c, d, e, f \u001b[38;5;129;01min\u001b[39;00m a:\n\u001b[1;32m      2\u001b[0m     \u001b[38;5;28mprint\u001b[39m(i)\n\u001b[1;32m      3\u001b[0m     \u001b[38;5;28mprint\u001b[39m(b)\n",
      "\u001b[0;31mValueError\u001b[0m: not enough values to unpack (expected 6, got 2)"
     ]
    }
   ],
   "source": [
    "for i, b, c, d, e, f in a:\n",
    "    print(i)\n",
    "    print(b)"
   ]
  },
  {
   "cell_type": "code",
   "execution_count": 20,
   "id": "b46d3a60-86cc-4a1e-b7e2-0c706aa74aca",
   "metadata": {},
   "outputs": [],
   "source": [
    "a = [1, 2, 3, 4]\n",
    "a.insert(0, 'a')"
   ]
  },
  {
   "cell_type": "code",
   "execution_count": 21,
   "id": "97520c35-3b60-427c-ae3e-ea2f450cdfa2",
   "metadata": {},
   "outputs": [
    {
     "data": {
      "text/plain": [
       "['a', 1, 2, 3, 4]"
      ]
     },
     "execution_count": 21,
     "metadata": {},
     "output_type": "execute_result"
    }
   ],
   "source": [
    "a"
   ]
  },
  {
   "cell_type": "code",
   "execution_count": 23,
   "id": "ca6ab0f6-62bd-49ec-a317-1c28cef32982",
   "metadata": {},
   "outputs": [
    {
     "ename": "TypeError",
     "evalue": "set.add() takes exactly one argument (2 given)",
     "output_type": "error",
     "traceback": [
      "\u001b[0;31m---------------------------------------------------------------------------\u001b[0m",
      "\u001b[0;31mTypeError\u001b[0m                                 Traceback (most recent call last)",
      "Cell \u001b[0;32mIn [23], line 2\u001b[0m\n\u001b[1;32m      1\u001b[0m a \u001b[38;5;241m=\u001b[39m \u001b[38;5;28mset\u001b[39m()\n\u001b[0;32m----> 2\u001b[0m a\u001b[38;5;241m.\u001b[39madd((\u001b[38;5;241m1\u001b[39m), (\u001b[38;5;241m2\u001b[39m))\n",
      "\u001b[0;31mTypeError\u001b[0m: set.add() takes exactly one argument (2 given)"
     ]
    }
   ],
   "source": [
    "a = set()\n",
    "a.add((1), (2))"
   ]
  },
  {
   "cell_type": "code",
   "execution_count": 1,
   "id": "01bbd723-13ac-4e79-8b94-0968cb68438d",
   "metadata": {},
   "outputs": [],
   "source": [
    "a = {1:2, 2:4, 4: 5}"
   ]
  },
  {
   "cell_type": "code",
   "execution_count": 2,
   "id": "9924f263-0eff-4e93-a6af-af5fcab30de3",
   "metadata": {},
   "outputs": [],
   "source": [
    "del a[1]"
   ]
  },
  {
   "cell_type": "code",
   "execution_count": 3,
   "id": "d8acd689-f906-469d-98db-c26003159da7",
   "metadata": {},
   "outputs": [
    {
     "data": {
      "text/plain": [
       "{2: 4, 4: 5}"
      ]
     },
     "execution_count": 3,
     "metadata": {},
     "output_type": "execute_result"
    }
   ],
   "source": [
    "a"
   ]
  },
  {
   "cell_type": "code",
   "execution_count": 4,
   "id": "2f480c1c-23c1-4835-a6db-c18be762737e",
   "metadata": {},
   "outputs": [
    {
     "ename": "KeyError",
     "evalue": "1",
     "output_type": "error",
     "traceback": [
      "\u001b[0;31m---------------------------------------------------------------------------\u001b[0m",
      "\u001b[0;31mKeyError\u001b[0m                                  Traceback (most recent call last)",
      "Cell \u001b[0;32mIn [4], line 1\u001b[0m\n\u001b[0;32m----> 1\u001b[0m \u001b[38;5;28;01mdel\u001b[39;00m a[\u001b[38;5;241m1\u001b[39m]\n",
      "\u001b[0;31mKeyError\u001b[0m: 1"
     ]
    }
   ],
   "source": [
    "del a[1]"
   ]
  },
  {
   "cell_type": "code",
   "execution_count": 9,
   "id": "4e8ebe2d-48cd-4772-bcc7-f5bf6b391794",
   "metadata": {},
   "outputs": [],
   "source": [
    "a = set()\n",
    "b = [1, 2, 3, 4, 5]\n",
    "a.add(tuple(b[5:]))"
   ]
  },
  {
   "cell_type": "code",
   "execution_count": 10,
   "id": "bdc7b87d-50af-454d-8b79-7a6a0c9b02bf",
   "metadata": {},
   "outputs": [
    {
     "data": {
      "text/plain": [
       "{()}"
      ]
     },
     "execution_count": 10,
     "metadata": {},
     "output_type": "execute_result"
    }
   ],
   "source": [
    "a"
   ]
  },
  {
   "cell_type": "code",
   "execution_count": 13,
   "id": "ae34984b-db35-459e-ab58-5e08283aeddd",
   "metadata": {},
   "outputs": [
    {
     "name": "stdout",
     "output_type": "stream",
     "text": [
      "1 0\n",
      "1 1\n",
      "1 2\n",
      "1 3\n",
      "2 0\n",
      "2 1\n",
      "2 2\n",
      "2 3\n",
      "3 0\n",
      "3 1\n",
      "3 2\n",
      "3 3\n",
      "4 0\n",
      "4 1\n",
      "4 2\n",
      "4 3\n"
     ]
    }
   ],
   "source": [
    "i = 0\n",
    "while i < 4:\n",
    "    i += 1\n",
    "    for j in range(5):\n",
    "        print(i, j)\n",
    "        if j == 3:\n",
    "            break"
   ]
  },
  {
   "cell_type": "code",
   "execution_count": null,
   "id": "cf0bb21b-5eee-42ed-89fe-3a9ef446bcce",
   "metadata": {},
   "outputs": [],
   "source": []
  }
 ],
 "metadata": {
  "kernelspec": {
   "display_name": "Python 3 (ipykernel)",
   "language": "python",
   "name": "python3"
  },
  "language_info": {
   "codemirror_mode": {
    "name": "ipython",
    "version": 3
   },
   "file_extension": ".py",
   "mimetype": "text/x-python",
   "name": "python",
   "nbconvert_exporter": "python",
   "pygments_lexer": "ipython3",
   "version": "3.9.13"
  }
 },
 "nbformat": 4,
 "nbformat_minor": 5
}
