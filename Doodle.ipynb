{
 "cells": [
  {
   "cell_type": "code",
   "execution_count": 2,
   "id": "561471c4-1d26-4e7c-8d1e-7a09e73bc6fc",
   "metadata": {},
   "outputs": [],
   "source": [
    "import numpy as np"
   ]
  },
  {
   "cell_type": "code",
   "execution_count": 4,
   "id": "a14e0677-7762-4316-9e3d-9fee9be72c84",
   "metadata": {},
   "outputs": [],
   "source": [
    "a, b = np.random.randint(1, 5, 2)"
   ]
  },
  {
   "cell_type": "code",
   "execution_count": 5,
   "id": "49d4b4d3-f963-4ac9-b65e-4a09a6bfddfa",
   "metadata": {},
   "outputs": [
    {
     "data": {
      "text/plain": [
       "3"
      ]
     },
     "execution_count": 5,
     "metadata": {},
     "output_type": "execute_result"
    }
   ],
   "source": [
    "a"
   ]
  },
  {
   "cell_type": "code",
   "execution_count": 6,
   "id": "598a4564-aabf-41aa-b62b-a2bda83da917",
   "metadata": {},
   "outputs": [],
   "source": [
    "for a in []:\n",
    "    print(a)"
   ]
  },
  {
   "cell_type": "code",
   "execution_count": null,
   "id": "f8a69877-b951-4004-a202-c0d92c77a98f",
   "metadata": {},
   "outputs": [],
   "source": [
    "np.linalg.norm("
   ]
  },
  {
   "cell_type": "code",
   "execution_count": 7,
   "id": "b5d58f40-ea14-4161-8812-5e2b0207e19e",
   "metadata": {},
   "outputs": [],
   "source": [
    "a = []\n",
    "b= [ 1, 2, 3]\n",
    "b = all(ac in b for ac in a)"
   ]
  },
  {
   "cell_type": "code",
   "execution_count": 10,
   "id": "d8ff0502-d9ac-42da-b36b-4ff98d67855f",
   "metadata": {},
   "outputs": [
    {
     "data": {
      "text/plain": [
       "True"
      ]
     },
     "execution_count": 10,
     "metadata": {},
     "output_type": "execute_result"
    }
   ],
   "source": [
    "all([])"
   ]
  },
  {
   "cell_type": "code",
   "execution_count": 11,
   "id": "fa971c67-90c1-46d5-8d41-e907c3a5b6fe",
   "metadata": {},
   "outputs": [],
   "source": [
    "a = b == 0"
   ]
  },
  {
   "cell_type": "code",
   "execution_count": 12,
   "id": "7e507fad-00c4-4271-aab4-bf2642772aa1",
   "metadata": {},
   "outputs": [
    {
     "data": {
      "text/plain": [
       "False"
      ]
     },
     "execution_count": 12,
     "metadata": {},
     "output_type": "execute_result"
    }
   ],
   "source": [
    "a"
   ]
  },
  {
   "cell_type": "code",
   "execution_count": 16,
   "id": "43cd7fd4-9ad7-422f-90f9-747dc1c33126",
   "metadata": {},
   "outputs": [],
   "source": [
    "a = {((1, 2, 3), (1, 2, 3)), ((1, 2, 3), (1, 2, 3)), ((1, 2, 3), (1, 2, 3))}"
   ]
  },
  {
   "cell_type": "code",
   "execution_count": 19,
   "id": "aa9b2ba5-d769-46bd-9627-392593836aa5",
   "metadata": {},
   "outputs": [
    {
     "ename": "ValueError",
     "evalue": "not enough values to unpack (expected 6, got 2)",
     "output_type": "error",
     "traceback": [
      "\u001b[0;31m---------------------------------------------------------------------------\u001b[0m",
      "\u001b[0;31mValueError\u001b[0m                                Traceback (most recent call last)",
      "Cell \u001b[0;32mIn [19], line 1\u001b[0m\n\u001b[0;32m----> 1\u001b[0m \u001b[38;5;28;01mfor\u001b[39;00m i, b, c, d, e, f \u001b[38;5;129;01min\u001b[39;00m a:\n\u001b[1;32m      2\u001b[0m     \u001b[38;5;28mprint\u001b[39m(i)\n\u001b[1;32m      3\u001b[0m     \u001b[38;5;28mprint\u001b[39m(b)\n",
      "\u001b[0;31mValueError\u001b[0m: not enough values to unpack (expected 6, got 2)"
     ]
    }
   ],
   "source": [
    "for i, b, c, d, e, f in a:\n",
    "    print(i)\n",
    "    print(b)"
   ]
  },
  {
   "cell_type": "code",
   "execution_count": null,
   "id": "b46d3a60-86cc-4a1e-b7e2-0c706aa74aca",
   "metadata": {},
   "outputs": [],
   "source": []
  }
 ],
 "metadata": {
  "kernelspec": {
   "display_name": "Python 3 (ipykernel)",
   "language": "python",
   "name": "python3"
  },
  "language_info": {
   "codemirror_mode": {
    "name": "ipython",
    "version": 3
   },
   "file_extension": ".py",
   "mimetype": "text/x-python",
   "name": "python",
   "nbconvert_exporter": "python",
   "pygments_lexer": "ipython3",
   "version": "3.9.13"
  }
 },
 "nbformat": 4,
 "nbformat_minor": 5
}
