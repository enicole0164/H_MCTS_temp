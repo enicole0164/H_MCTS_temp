{
 "cells": [
  {
   "cell_type": "code",
   "execution_count": 1,
   "id": "87f48416-f947-4a34-9594-1cf0ddbfd2cd",
   "metadata": {},
   "outputs": [],
   "source": [
    "from src.Planners.H_MCTS_HW import H_MCTS_HW\n",
    "from src.Planners.H_MCTS_level2.H_MCTS import H_MCTS\n",
    "\n",
    "\n",
    "import math\n",
    "import pandas as pd\n",
    "import numpy as np\n",
    "import matplotlib.pyplot as plt"
   ]
  },
  {
   "cell_type": "code",
   "execution_count": 2,
   "id": "d8d88f21-2981-4467-8e9d-debd0f6f19bb",
   "metadata": {},
   "outputs": [],
   "source": [
    "l1_rows = 8\n",
    "l1_cols = 8\n",
    "l1_width = 2\n",
    "l1_height = 2\n",
    "# H_level = 2\n",
    "num_barrier = 15\n",
    "random_seed= 25\n",
    "\n",
    "explorationConstant = 1 / math.sqrt(2)\n",
    "grid_setting = (l1_rows, l1_cols, l1_width, l1_height)\n",
    "\n",
    "iter_Limit = 10000\n",
    "H_level = 2"
   ]
  },
  {
   "cell_type": "code",
   "execution_count": 3,
   "id": "48db96ce-2737-4f9e-8f41-31334c5144fc",
   "metadata": {
    "tags": []
   },
   "outputs": [
    {
     "name": "stdout",
     "output_type": "stream",
     "text": [
      "random seed is 0\n",
      "Level3: 57, Level2: 54\n",
      "random seed is 1\n"
     ]
    },
    {
     "ename": "KeyError",
     "evalue": "2",
     "output_type": "error",
     "traceback": [
      "\u001b[0;31m---------------------------------------------------------------------------\u001b[0m",
      "\u001b[0;31mKeyError\u001b[0m                                  Traceback (most recent call last)",
      "Cell \u001b[0;32mIn [3], line 31\u001b[0m\n\u001b[1;32m     28\u001b[0m H_mcts_3 \u001b[38;5;241m=\u001b[39m H_MCTS_HW(grid_setting, iter_Limit\u001b[38;5;241m=\u001b[39miter_Limit, H_level\u001b[38;5;241m=\u001b[39mL3, explorationConstant\u001b[38;5;241m=\u001b[39mexplorationConstant, num_barrier\u001b[38;5;241m=\u001b[39mnum_barrier, random_seed\u001b[38;5;241m=\u001b[39mrandom_seed)\n\u001b[1;32m     29\u001b[0m H_mcts_2 \u001b[38;5;241m=\u001b[39m H_MCTS(grid_setting, iter_Limit\u001b[38;5;241m=\u001b[39miter_Limit, H_level\u001b[38;5;241m=\u001b[39mL2, explorationConstant\u001b[38;5;241m=\u001b[39mexplorationConstant, num_barrier\u001b[38;5;241m=\u001b[39mnum_barrier, random_seed\u001b[38;5;241m=\u001b[39mrandom_seed)\n\u001b[0;32m---> 31\u001b[0m L3_traj, L3_success, L3_iter \u001b[38;5;241m=\u001b[39m H_mcts_3\u001b[38;5;241m.\u001b[39msearch()\n\u001b[1;32m     32\u001b[0m L2_traj, L2_success, L2_iter \u001b[38;5;241m=\u001b[39m H_mcts_2\u001b[38;5;241m.\u001b[39msearch()\n\u001b[1;32m     34\u001b[0m \u001b[38;5;28mprint\u001b[39m(\u001b[38;5;124mf\u001b[39m\u001b[38;5;124m'\u001b[39m\u001b[38;5;124mLevel3: \u001b[39m\u001b[38;5;132;01m{\u001b[39;00mL3_iter\u001b[38;5;132;01m}\u001b[39;00m\u001b[38;5;124m, Level2: \u001b[39m\u001b[38;5;132;01m{\u001b[39;00mL2_iter\u001b[38;5;132;01m}\u001b[39;00m\u001b[38;5;124m'\u001b[39m)\n",
      "File \u001b[0;32m~/workspace/H_MCTS/src/Planners/H_MCTS_HW.py:96\u001b[0m, in \u001b[0;36mH_MCTS_HW.search\u001b[0;34m(self)\u001b[0m\n\u001b[1;32m     93\u001b[0m \u001b[38;5;28mself\u001b[39m\u001b[38;5;241m.\u001b[39mset_Root()  \u001b[38;5;66;03m# set root and its subgoal ( destination at high level)\u001b[39;00m\n\u001b[1;32m     95\u001b[0m \u001b[38;5;28;01mfor\u001b[39;00m i \u001b[38;5;129;01min\u001b[39;00m \u001b[38;5;28mrange\u001b[39m(\u001b[38;5;28mself\u001b[39m\u001b[38;5;241m.\u001b[39msearchLimit):\n\u001b[0;32m---> 96\u001b[0m     path \u001b[38;5;241m=\u001b[39m \u001b[38;5;28;43mself\u001b[39;49m\u001b[38;5;241;43m.\u001b[39;49m\u001b[43mexecuteRound\u001b[49m\u001b[43m(\u001b[49m\u001b[43m)\u001b[49m\n\u001b[1;32m     97\u001b[0m     \u001b[38;5;28;01mif\u001b[39;00m path \u001b[38;5;129;01mis\u001b[39;00m \u001b[38;5;129;01mnot\u001b[39;00m \u001b[38;5;28;01mNone\u001b[39;00m:\n\u001b[1;32m     98\u001b[0m         success \u001b[38;5;241m=\u001b[39m \u001b[38;5;28;01mTrue\u001b[39;00m\n",
      "File \u001b[0;32m~/workspace/H_MCTS/src/Planners/H_MCTS_HW.py:108\u001b[0m, in \u001b[0;36mH_MCTS_HW.executeRound\u001b[0;34m(self)\u001b[0m\n\u001b[1;32m    105\u001b[0m cur_root_level \u001b[38;5;241m=\u001b[39m \u001b[38;5;28mself\u001b[39m\u001b[38;5;241m.\u001b[39mroot\u001b[38;5;241m.\u001b[39ms[\u001b[38;5;241m0\u001b[39m]\n\u001b[1;32m    107\u001b[0m \u001b[38;5;66;03m# Select Leaf\u001b[39;00m\n\u001b[0;32m--> 108\u001b[0m node \u001b[38;5;241m=\u001b[39m \u001b[38;5;28;43mself\u001b[39;49m\u001b[38;5;241;43m.\u001b[39;49m\u001b[43mselectNode\u001b[49m\u001b[43m(\u001b[49m\u001b[38;5;28;43mself\u001b[39;49m\u001b[38;5;241;43m.\u001b[39;49m\u001b[43mroot\u001b[49m\u001b[43m)\u001b[49m\n\u001b[1;32m    109\u001b[0m node_start, subgoal_traj \u001b[38;5;241m=\u001b[39m \u001b[38;5;28mself\u001b[39m\u001b[38;5;241m.\u001b[39mBacktrace(node)\n\u001b[1;32m    111\u001b[0m \u001b[38;5;66;03m# Delete Node if Cycle\u001b[39;00m\n",
      "File \u001b[0;32m~/workspace/H_MCTS/src/Planners/H_MCTS_HW.py:147\u001b[0m, in \u001b[0;36mH_MCTS_HW.selectNode\u001b[0;34m(self, node)\u001b[0m\n\u001b[1;32m    145\u001b[0m         node \u001b[38;5;241m=\u001b[39m \u001b[38;5;28mself\u001b[39m\u001b[38;5;241m.\u001b[39mgetBestChild(node, \u001b[38;5;28mself\u001b[39m\u001b[38;5;241m.\u001b[39mexplorationConstant)\n\u001b[1;32m    146\u001b[0m     \u001b[38;5;28;01melse\u001b[39;00m:\n\u001b[0;32m--> 147\u001b[0m         \u001b[38;5;28;01mreturn\u001b[39;00m \u001b[38;5;28;43mself\u001b[39;49m\u001b[38;5;241;43m.\u001b[39;49m\u001b[43mexpand\u001b[49m\u001b[43m(\u001b[49m\u001b[43mnode\u001b[49m\u001b[43m)\u001b[49m\n\u001b[1;32m    149\u001b[0m \u001b[38;5;28;01mreturn\u001b[39;00m node\n",
      "File \u001b[0;32m~/workspace/H_MCTS/src/Planners/H_MCTS_HW.py:155\u001b[0m, in \u001b[0;36mH_MCTS_HW.expand\u001b[0;34m(self, node)\u001b[0m\n\u001b[1;32m    152\u001b[0m action \u001b[38;5;241m=\u001b[39m random\u001b[38;5;241m.\u001b[39mchoice(\u001b[38;5;28mlist\u001b[39m(node\u001b[38;5;241m.\u001b[39muntried_Actions))\n\u001b[1;32m    153\u001b[0m next_s \u001b[38;5;241m=\u001b[39m node\u001b[38;5;241m.\u001b[39mstep(action)\n\u001b[0;32m--> 155\u001b[0m new_Node \u001b[38;5;241m=\u001b[39m \u001b[43mH_Node_HW\u001b[49m\u001b[43m(\u001b[49m\u001b[43ms\u001b[49m\u001b[38;5;241;43m=\u001b[39;49m\u001b[43mnext_s\u001b[49m\u001b[43m,\u001b[49m\u001b[43m \u001b[49m\u001b[43menv\u001b[49m\u001b[38;5;241;43m=\u001b[39;49m\u001b[43mdeepcopy\u001b[49m\u001b[43m(\u001b[49m\u001b[38;5;28;43mself\u001b[39;49m\u001b[38;5;241;43m.\u001b[39;49m\u001b[43menv\u001b[49m\u001b[43m)\u001b[49m\u001b[43m,\u001b[49m\u001b[43m \u001b[49m\u001b[43mparent\u001b[49m\u001b[38;5;241;43m=\u001b[39;49m\u001b[43mnode\u001b[49m\u001b[43m)\u001b[49m\n\u001b[1;32m    156\u001b[0m node\u001b[38;5;241m.\u001b[39muntried_Actions\u001b[38;5;241m.\u001b[39mremove(action)\n\u001b[1;32m    157\u001b[0m node\u001b[38;5;241m.\u001b[39mchildren[action] \u001b[38;5;241m=\u001b[39m new_Node\n",
      "File \u001b[0;32m~/workspace/H_MCTS/src/Planners/Node_HW.py:34\u001b[0m, in \u001b[0;36mH_Node_HW.__init__\u001b[0;34m(self, s, env, parent)\u001b[0m\n\u001b[1;32m     31\u001b[0m \u001b[38;5;28mself\u001b[39m\u001b[38;5;241m.\u001b[39misFullyExpanded \u001b[38;5;241m=\u001b[39m \u001b[38;5;28mself\u001b[39m\u001b[38;5;241m.\u001b[39misTerminal\n\u001b[1;32m     33\u001b[0m \u001b[38;5;28mself\u001b[39m\u001b[38;5;241m.\u001b[39mcheckCycle()       \u001b[38;5;66;03m# set self.isCycle, self.untried_Actions\u001b[39;00m\n\u001b[0;32m---> 34\u001b[0m \u001b[38;5;28;43mself\u001b[39;49m\u001b[38;5;241;43m.\u001b[39;49m\u001b[43mCheckExtendable\u001b[49m\u001b[43m(\u001b[49m\u001b[43m)\u001b[49m\n",
      "File \u001b[0;32m~/workspace/H_MCTS/src/Planners/Node_HW.py:118\u001b[0m, in \u001b[0;36mH_Node_HW.CheckExtendable\u001b[0;34m(self)\u001b[0m\n\u001b[1;32m    116\u001b[0m \u001b[38;5;28;01mfor\u001b[39;00m subgoal_traj \u001b[38;5;129;01min\u001b[39;00m \u001b[38;5;28mself\u001b[39m\u001b[38;5;241m.\u001b[39mparent\u001b[38;5;241m.\u001b[39msubgoal_set:\n\u001b[1;32m    117\u001b[0m     obj_state \u001b[38;5;241m=\u001b[39m subgoal_traj[\u001b[38;5;241m0\u001b[39m]\n\u001b[0;32m--> 118\u001b[0m     state \u001b[38;5;241m=\u001b[39m \u001b[38;5;28;43mself\u001b[39;49m\u001b[38;5;241;43m.\u001b[39;49m\u001b[43mlevel_pos\u001b[49m\u001b[43m[\u001b[49m\u001b[43mobj_state\u001b[49m\u001b[43m[\u001b[49m\u001b[38;5;241;43m0\u001b[39;49m\u001b[43m]\u001b[49m\u001b[43m]\u001b[49m\n\u001b[1;32m    119\u001b[0m     \u001b[38;5;28;01mif\u001b[39;00m state \u001b[38;5;241m!=\u001b[39m obj_state:\n\u001b[1;32m    120\u001b[0m         \u001b[38;5;28;01mcontinue\u001b[39;00m\n",
      "\u001b[0;31mKeyError\u001b[0m: 2"
     ]
    }
   ],
   "source": [
    "r = 0\n",
    "dead_list = [3, 19, 22, 29, 37, 43, 50, 54, 59, 62, 79, 110]  # unfeasible set\n",
    "\n",
    "num_set = 5\n",
    "\n",
    "success_data = dict()\n",
    "iteration_data = dict()\n",
    "\n",
    "modules = ['Level3', 'Level2']\n",
    "\n",
    "for module in modules:\n",
    "    success_data[module] = []\n",
    "    iteration_data[module] = []\n",
    "\n",
    "Success_H = 0\n",
    "Success_Plain = 0\n",
    "\n",
    "L3 = 3\n",
    "L2 = 2\n",
    "for i in range(1):\n",
    "    for random_seed in range(0, 20):\n",
    "    # for random_seed in range(6, 7):\n",
    "\n",
    "        if random_seed in dead_list:\n",
    "            continue\n",
    "        else:\n",
    "            print(f'random seed is {random_seed}')\n",
    "            H_mcts_3 = H_MCTS_HW(grid_setting, iter_Limit=iter_Limit, H_level=L3, explorationConstant=explorationConstant, num_barrier=num_barrier, random_seed=random_seed)\n",
    "            H_mcts_2 = H_MCTS(grid_setting, iter_Limit=iter_Limit, H_level=L2, explorationConstant=explorationConstant, num_barrier=num_barrier, random_seed=random_seed)\n",
    "            \n",
    "            L3_traj, L3_success, L3_iter = H_mcts_3.search()\n",
    "            L2_traj, L2_success, L2_iter = H_mcts_2.search()\n",
    "            \n",
    "            print(f'Level3: {L3_iter}, Level2: {L2_iter}')\n",
    "            \n",
    "            success_data['Level3'].append(L3_success)\n",
    "            success_data['Level2'].append(L2_success)\n",
    "\n",
    "            iteration_data['Level3'].append(L3_iter)\n",
    "            iteration_data['Level2'].append(L2_iter)"
   ]
  },
  {
   "cell_type": "code",
   "execution_count": 4,
   "id": "0ca334fe-7235-4ed0-816f-5bdc5c92e7f6",
   "metadata": {},
   "outputs": [
    {
     "name": "stdout",
     "output_type": "stream",
     "text": [
      "        without Extendable  with Extendable\n",
      "H-MCTS                0.99            0.994\n"
     ]
    }
   ],
   "source": [
    "df_success = pd.DataFrame(success_data)\n",
    "\n",
    "df_success_rate = pd.DataFrame({\n",
    "    'without Extendable': [df_success['H_woE'].mean()],\n",
    "    'with Extendable': [df_success['H'].mean()]\n",
    "}, index=['H-MCTS'])\n",
    "\n",
    "print(df_success_rate)"
   ]
  },
  {
   "cell_type": "code",
   "execution_count": 5,
   "id": "66c17dbd-24c2-4a7b-aab3-839fd9e75de6",
   "metadata": {},
   "outputs": [
    {
     "data": {
      "image/png": "[encoded data removed]",
      "text/plain": [
       "<Figure size 640x480 with 1 Axes>"
      ]
     },
     "metadata": {},
     "output_type": "display_data"
    }
   ],
   "source": [
    "import numpy as np\n",
    "import matplotlib.pyplot as plt\n",
    "\n",
    "# Filter the iteration_data based on success\n",
    "filtered_iteration_data = {module: [] for module in modules}\n",
    "\n",
    "for i in range(len(success_data['H_woE'])):\n",
    "    if all([success_data[module][i] for module in modules]):\n",
    "        for module in modules:\n",
    "            filtered_iteration_data[module].append(iteration_data[module][i])\n",
    "\n",
    "# Calculate mean and standard deviation\n",
    "mean_data = {module: np.mean(filtered_iteration_data[module]) for module in modules}\n",
    "std_data = {module: np.std(filtered_iteration_data[module]) for module in modules}\n",
    "\n",
    "# Plotting the mean and standard deviation\n",
    "labels = list(mean_data.keys())\n",
    "mean_vals = list(mean_data.values())\n",
    "std_vals = list(std_data.values())\n",
    "\n",
    "x = np.arange(len(labels))  # the label locations\n",
    "\n",
    "colors = ['blue', 'green', 'red', 'purple']  # Define colors for each module\n",
    "\n",
    "fig, ax = plt.subplots()\n",
    "for i in range(len(labels)):\n",
    "    # Only positive error bars\n",
    "    ax.bar(x[i], mean_vals[i], yerr=[[0], [std_vals[i]]], color=colors[i], capsize=10)\n",
    "\n",
    "ax.set_yscale('log') # Change y-axis to log scale\n",
    "\n",
    "# Remaining part of the code\n",
    "ax.set_ylabel('Iterations until find the path')\n",
    "ax.set_title('Extendable ablation')\n",
    "ax.set_xticks(x)\n",
    "ax.set_xticklabels(labels)\n",
    "\n",
    "fig.tight_layout()\n",
    "\n",
    "plt.show()\n",
    "\n"
   ]
  },
  {
   "cell_type": "code",
   "execution_count": null,
   "id": "86045f30-0df5-48ab-b398-a78d0ba1a33f",
   "metadata": {},
   "outputs": [],
   "source": []
  }
 ],
 "metadata": {
  "kernelspec": {
   "display_name": "Python 3 (ipykernel)",
   "language": "python",
   "name": "python3"
  },
  "language_info": {
   "codemirror_mode": {
    "name": "ipython",
    "version": 3
   },
   "file_extension": ".py",
   "mimetype": "text/x-python",
   "name": "python",
   "nbconvert_exporter": "python",
   "pygments_lexer": "ipython3",
   "version": "3.9.13"
  }
 },
 "nbformat": 4,
 "nbformat_minor": 5
}
