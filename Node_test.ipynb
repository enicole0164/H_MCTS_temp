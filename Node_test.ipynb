{
 "cells": [
  {
   "cell_type": "code",
   "execution_count": 1,
   "id": "79f99e57-2cf6-45d2-9387-e57f79c73006",
   "metadata": {
    "tags": []
   },
   "outputs": [],
   "source": [
    "from collections import defaultdict\n",
    "from abc import ABC, abstractmethod\n",
    "import time\n",
    "import math\n",
    "import random\n",
    "\n",
    "import numpy as np\n",
    "\n",
    "# from src.model import H_Node\n",
    "# from src.Env.Grid.All_level_Grid import Grid"
   ]
  },
  {
   "cell_type": "code",
   "execution_count": 2,
   "id": "e4853bfd-3c71-4d0d-a48d-fc2a6148032f",
   "metadata": {},
   "outputs": [],
   "source": [
    "class TreeNode:\n",
    "    def __init__(self, name, parent=None):\n",
    "        self.name = name\n",
    "        self.parent = parent\n",
    "        self.children = {}\n",
    "\n",
    "    def add_child(self, child):\n",
    "        self.children[child.name] = child\n",
    "\n",
    "    def set_name(self, new_name):\n",
    "        old_name = self.name\n",
    "        self.name = new_name\n",
    "        if self.parent:\n",
    "            self.parent.update_child_name(old_name, new_name)\n",
    "        for child in self.children.values():\n",
    "            child.update_parent_name(old_name, new_name)\n",
    "\n",
    "    def update_child_name(self, old_name, new_name):\n",
    "        if old_name in self.children:\n",
    "            self.children[new_name] = self.children.pop(old_name)\n",
    "            self.children[new_name].set_name(new_name)\n",
    "\n",
    "    def update_parent_name(self, old_name, new_name):\n",
    "        if self.parent and self.parent.name == old_name:\n",
    "            self.parent.set_name(new_name)"
   ]
  },
  {
   "cell_type": "code",
   "execution_count": 3,
   "id": "54efa8b3-6569-4f51-a945-ee09c2e47bd3",
   "metadata": {},
   "outputs": [
    {
     "name": "stdout",
     "output_type": "stream",
     "text": [
      "Initial Tree Structure:\n",
      "A\n",
      "├── B\n",
      "│   ├── D\n",
      "│   └── E\n",
      "└── C\n",
      "    └── F\n",
      "\n",
      "Updated Tree Structure:\n",
      "A\n",
      "├── New Name for B\n",
      "│   ├── D\n",
      "│   └── E\n",
      "└── C\n",
      "    └── F\n"
     ]
    }
   ],
   "source": [
    "# Create a tree structure\n",
    "root = TreeNode(\"A\")\n",
    "node_b = TreeNode(\"B\", parent=root)\n",
    "node_c = TreeNode(\"C\", parent=root)\n",
    "node_d = TreeNode(\"D\", parent=node_b)\n",
    "node_e = TreeNode(\"E\", parent=node_b)\n",
    "node_f = TreeNode(\"F\", parent=node_c)\n",
    "\n",
    "# Display the initial tree structure\n",
    "print(\"Initial Tree Structure:\")\n",
    "print(root.name)\n",
    "print(\"├──\", node_b.name)\n",
    "print(\"│   ├──\", node_d.name)\n",
    "print(\"│   └──\", node_e.name)\n",
    "print(\"└──\", node_c.name)\n",
    "print(\"    └──\", node_f.name)\n",
    "\n",
    "# Change the name of node_b\n",
    "node_b.set_name(\"New Name for B\")\n",
    "\n",
    "# Display the updated tree structure\n",
    "print(\"\\nUpdated Tree Structure:\")\n",
    "print(root.name)\n",
    "print(\"├──\", node_b.name)\n",
    "print(\"│   ├──\", node_d.name)\n",
    "print(\"│   └──\", node_e.name)\n",
    "print(\"└──\", node_c.name)\n",
    "print(\"    └──\", node_f.name)\n"
   ]
  },
  {
   "cell_type": "code",
   "execution_count": 6,
   "id": "7f474898-4112-49e3-a3a4-0bf351fcf910",
   "metadata": {},
   "outputs": [
    {
     "data": {
      "text/plain": [
       "'New Name for B'"
      ]
     },
     "execution_count": 6,
     "metadata": {},
     "output_type": "execute_result"
    }
   ],
   "source": [
    "node_d.parent.name"
   ]
  },
  {
   "cell_type": "code",
   "execution_count": 7,
   "id": "5aa6a24b-626f-4918-acbd-db5aa4ac54f3",
   "metadata": {},
   "outputs": [
    {
     "name": "stdout",
     "output_type": "stream",
     "text": [
      "1 2\n",
      "1 2\n",
      "1 2\n",
      "1 2\n"
     ]
    }
   ],
   "source": [
    "a = [(1, 2),(1, 2),(1, 2),(1, 2)]\n",
    "for i, j in a:\n",
    "    print(i, j)"
   ]
  },
  {
   "cell_type": "code",
   "execution_count": null,
   "id": "2e1a4518-474b-483b-bf74-1d372457edcb",
   "metadata": {},
   "outputs": [],
   "source": []
  }
 ],
 "metadata": {
  "kernelspec": {
   "display_name": "Python 3 (ipykernel)",
   "language": "python",
   "name": "python3"
  },
  "language_info": {
   "codemirror_mode": {
    "name": "ipython",
    "version": 3
   },
   "file_extension": ".py",
   "mimetype": "text/x-python",
   "name": "python",
   "nbconvert_exporter": "python",
   "pygments_lexer": "ipython3",
   "version": "3.9.13"
  }
 },
 "nbformat": 4,
 "nbformat_minor": 5
}
