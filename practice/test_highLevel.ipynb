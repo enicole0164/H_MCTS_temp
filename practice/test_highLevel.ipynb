{
 "cells": [
  {
   "cell_type": "code",
   "execution_count": 9,
   "id": "dd114b25-25ec-4a6d-b9c8-10d18fd92f42",
   "metadata": {},
   "outputs": [],
   "source": [
    "import time\n",
    "import math\n",
    "import random"
   ]
  },
  {
   "cell_type": "code",
   "execution_count": 16,
   "id": "4846b4f5-54c0-472e-a94d-ccf179fa876c",
   "metadata": {},
   "outputs": [],
   "source": [
    "class H_Node():\n",
    "    def __init__(self, level, x, y, parent):\n",
    "        self.level = level  # heirarchical level\n",
    "        self.x = x  # horizontal position at grid\n",
    "        self.y = y  # vertical position at grid\n",
    "        self.is_Root = check_Root(level, x, y)\n",
    "        self.isTerminal = check_terminal(level, x, y)\n",
    "        self.isFullyExpanded = self.isTerminal\n",
    "        self.parent = parent\n",
    "        self.numVisits = 0\n",
    "        self.totalReward = 0\n",
    "        self.subgoals = []  # list of subgoal with (level, x, y)\n",
    "        self.destination = None\n",
    "        self.children = {}\n",
    "        \n",
    "    def __str__(self):\n",
    "        return \"(level: {}, x: {}, y: {}): (action={}, visits={}, reward={:d}, ratio={:0.4f})\".format(self.level,\n",
    "                                                                                                      self.x,\n",
    "                                                                                                      self.y,\n",
    "                                                                                                      self.action,\n",
    "                                                                                                      self.num_visits,\n",
    "                                                                                                      self.total_simulation_reward,\n",
    "                                                                                                      self.performance)"
   ]
  },
  {
   "cell_type": "code",
   "execution_count": 12,
   "id": "2a7c1e05-2c5a-4e33-8e4f-52e496e437b0",
   "metadata": {},
   "outputs": [
    {
     "ename": "IndentationError",
     "evalue": "expected an indented block (666855542.py, line 1)",
     "output_type": "error",
     "traceback": [
      "\u001b[0;36m  Cell \u001b[0;32mIn [12], line 1\u001b[0;36m\u001b[0m\n\u001b[0;31m    def check_terminal():\u001b[0m\n\u001b[0m                         ^\u001b[0m\n\u001b[0;31mIndentationError\u001b[0m\u001b[0;31m:\u001b[0m expected an indented block\n"
     ]
    }
   ],
   "source": [
    "def check_Terminal(level, position):\n",
    "    if level == 1:  # continuous action\n",
    "        \n",
    "    else:  # discrete action at Hierarchical state\n",
    "        \n",
    "def check_Root(level, position):\n",
    "    "
   ]
  },
  {
   "cell_type": "code",
   "execution_count": null,
   "id": "bfc483a5-bb75-471f-b4d3-e92688f41cbb",
   "metadata": {},
   "outputs": [],
   "source": []
  }
 ],
 "metadata": {
  "kernelspec": {
   "display_name": "Python 3 (ipykernel)",
   "language": "python",
   "name": "python3"
  },
  "language_info": {
   "codemirror_mode": {
    "name": "ipython",
    "version": 3
   },
   "file_extension": ".py",
   "mimetype": "text/x-python",
   "name": "python",
   "nbconvert_exporter": "python",
   "pygments_lexer": "ipython3",
   "version": "3.9.13"
  }
 },
 "nbformat": 4,
 "nbformat_minor": 5
}
